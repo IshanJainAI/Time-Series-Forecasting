{
  "nbformat": 4,
  "nbformat_minor": 0,
  "metadata": {
    "colab": {
      "name": "Time Series - DeepAR model.ipynb",
      "provenance": [],
      "collapsed_sections": []
    },
    "kernelspec": {
      "name": "python3",
      "display_name": "Python 3"
    },
    "language_info": {
      "name": "python"
    }
  },
  "cells": [
    {
      "cell_type": "code",
      "source": [
        "from google.colab import drive\n",
        "drive.mount('/gdrive')"
      ],
      "metadata": {
        "id": "mhrcRAIKt6ny",
        "colab": {
          "base_uri": "https://localhost:8080/"
        },
        "outputId": "f64d6e8e-0478-42da-a7d9-352bce5c9aed"
      },
      "execution_count": null,
      "outputs": [
        {
          "output_type": "stream",
          "name": "stdout",
          "text": [
            "Mounted at /gdrive\n"
          ]
        }
      ]
    },
    {
      "cell_type": "code",
      "source": [
        "cd ../gdrive/My Drive/Colab Notebooks/time_series"
      ],
      "metadata": {
        "colab": {
          "base_uri": "https://localhost:8080/"
        },
        "id": "QQY5GWIBCGTD",
        "outputId": "e8c382de-cbea-4ad1-c3a2-196be535b6e2"
      },
      "execution_count": null,
      "outputs": [
        {
          "output_type": "stream",
          "name": "stdout",
          "text": [
            "/gdrive/My Drive/Colab Notebooks/time_series\n"
          ]
        }
      ]
    },
    {
      "cell_type": "code",
      "source": [
        "!pip install gluonts\n",
        "!pip install mxnet"
      ],
      "metadata": {
        "id": "YzrbBh_IzuRT"
      },
      "execution_count": null,
      "outputs": []
    },
    {
      "cell_type": "code",
      "source": [
        "from gluonts.model.deepar import DeepAREstimator\n",
        "#from gluonts.trainer import Trainer\n",
        "from gluonts.mx.trainer import Trainer\n",
        "from gluonts.dataset.common import ListDataset\n",
        "\n",
        "import mxnet as mx\n",
        "import numpy as np\n",
        "import pandas as pd"
      ],
      "metadata": {
        "colab": {
          "base_uri": "https://localhost:8080/"
        },
        "id": "7nwLabGgz_r_",
        "outputId": "e1b18e83-4f2a-4f4b-b92e-b601c9d8cdde"
      },
      "execution_count": null,
      "outputs": [
        {
          "output_type": "stream",
          "name": "stderr",
          "text": [
            "/usr/local/lib/python3.7/dist-packages/gluonts/json.py:102: UserWarning: Using `json`-module for json-handling. Consider installing one of `orjson`, `ujson` to speed up serialization and deserialization.\n",
            "  \"Using `json`-module for json-handling. \"\n"
          ]
        }
      ]
    },
    {
      "cell_type": "markdown",
      "source": [
        "Deep AR \n",
        "\n",
        "https://docs.aws.amazon.com/sagemaker/latest/dg/deepar.html\n",
        "\n",
        "https://ts.gluon.ai/api/gluonts/gluonts.model.deepar.html?highlight=deeparestimator#gluonts.model.deepar.DeepAREstimator\n",
        "\n"
      ],
      "metadata": {
        "id": "_-jXyqoUvBPp"
      }
    },
    {
      "cell_type": "code",
      "source": [
        "# https://www.kaggle.com/competitions/recruit-restaurant-visitor-forecasting/data?select=air_visit_data.csv.zip\n",
        "\n",
        "y = pd.read_csv('air_visit_data.csv')\n",
        "y.head()"
      ],
      "metadata": {
        "id": "McG-b1gICMwZ",
        "colab": {
          "base_uri": "https://localhost:8080/",
          "height": 206
        },
        "outputId": "4d24024c-bd41-4e50-ae1c-b2669b3ce778"
      },
      "execution_count": null,
      "outputs": [
        {
          "output_type": "execute_result",
          "data": {
            "text/plain": [
              "           air_store_id  visit_date  visitors\n",
              "0  air_ba937bf13d40fb24  2016-01-13        25\n",
              "1  air_ba937bf13d40fb24  2016-01-14        32\n",
              "2  air_ba937bf13d40fb24  2016-01-15        29\n",
              "3  air_ba937bf13d40fb24  2016-01-16        22\n",
              "4  air_ba937bf13d40fb24  2016-01-18         6"
            ],
            "text/html": [
              "\n",
              "  <div id=\"df-e2979636-32e2-4c16-b213-8ff6835eb54c\">\n",
              "    <div class=\"colab-df-container\">\n",
              "      <div>\n",
              "<style scoped>\n",
              "    .dataframe tbody tr th:only-of-type {\n",
              "        vertical-align: middle;\n",
              "    }\n",
              "\n",
              "    .dataframe tbody tr th {\n",
              "        vertical-align: top;\n",
              "    }\n",
              "\n",
              "    .dataframe thead th {\n",
              "        text-align: right;\n",
              "    }\n",
              "</style>\n",
              "<table border=\"1\" class=\"dataframe\">\n",
              "  <thead>\n",
              "    <tr style=\"text-align: right;\">\n",
              "      <th></th>\n",
              "      <th>air_store_id</th>\n",
              "      <th>visit_date</th>\n",
              "      <th>visitors</th>\n",
              "    </tr>\n",
              "  </thead>\n",
              "  <tbody>\n",
              "    <tr>\n",
              "      <th>0</th>\n",
              "      <td>air_ba937bf13d40fb24</td>\n",
              "      <td>2016-01-13</td>\n",
              "      <td>25</td>\n",
              "    </tr>\n",
              "    <tr>\n",
              "      <th>1</th>\n",
              "      <td>air_ba937bf13d40fb24</td>\n",
              "      <td>2016-01-14</td>\n",
              "      <td>32</td>\n",
              "    </tr>\n",
              "    <tr>\n",
              "      <th>2</th>\n",
              "      <td>air_ba937bf13d40fb24</td>\n",
              "      <td>2016-01-15</td>\n",
              "      <td>29</td>\n",
              "    </tr>\n",
              "    <tr>\n",
              "      <th>3</th>\n",
              "      <td>air_ba937bf13d40fb24</td>\n",
              "      <td>2016-01-16</td>\n",
              "      <td>22</td>\n",
              "    </tr>\n",
              "    <tr>\n",
              "      <th>4</th>\n",
              "      <td>air_ba937bf13d40fb24</td>\n",
              "      <td>2016-01-18</td>\n",
              "      <td>6</td>\n",
              "    </tr>\n",
              "  </tbody>\n",
              "</table>\n",
              "</div>\n",
              "      <button class=\"colab-df-convert\" onclick=\"convertToInteractive('df-e2979636-32e2-4c16-b213-8ff6835eb54c')\"\n",
              "              title=\"Convert this dataframe to an interactive table.\"\n",
              "              style=\"display:none;\">\n",
              "        \n",
              "  <svg xmlns=\"http://www.w3.org/2000/svg\" height=\"24px\"viewBox=\"0 0 24 24\"\n",
              "       width=\"24px\">\n",
              "    <path d=\"M0 0h24v24H0V0z\" fill=\"none\"/>\n",
              "    <path d=\"M18.56 5.44l.94 2.06.94-2.06 2.06-.94-2.06-.94-.94-2.06-.94 2.06-2.06.94zm-11 1L8.5 8.5l.94-2.06 2.06-.94-2.06-.94L8.5 2.5l-.94 2.06-2.06.94zm10 10l.94 2.06.94-2.06 2.06-.94-2.06-.94-.94-2.06-.94 2.06-2.06.94z\"/><path d=\"M17.41 7.96l-1.37-1.37c-.4-.4-.92-.59-1.43-.59-.52 0-1.04.2-1.43.59L10.3 9.45l-7.72 7.72c-.78.78-.78 2.05 0 2.83L4 21.41c.39.39.9.59 1.41.59.51 0 1.02-.2 1.41-.59l7.78-7.78 2.81-2.81c.8-.78.8-2.07 0-2.86zM5.41 20L4 18.59l7.72-7.72 1.47 1.35L5.41 20z\"/>\n",
              "  </svg>\n",
              "      </button>\n",
              "      \n",
              "  <style>\n",
              "    .colab-df-container {\n",
              "      display:flex;\n",
              "      flex-wrap:wrap;\n",
              "      gap: 12px;\n",
              "    }\n",
              "\n",
              "    .colab-df-convert {\n",
              "      background-color: #E8F0FE;\n",
              "      border: none;\n",
              "      border-radius: 50%;\n",
              "      cursor: pointer;\n",
              "      display: none;\n",
              "      fill: #1967D2;\n",
              "      height: 32px;\n",
              "      padding: 0 0 0 0;\n",
              "      width: 32px;\n",
              "    }\n",
              "\n",
              "    .colab-df-convert:hover {\n",
              "      background-color: #E2EBFA;\n",
              "      box-shadow: 0px 1px 2px rgba(60, 64, 67, 0.3), 0px 1px 3px 1px rgba(60, 64, 67, 0.15);\n",
              "      fill: #174EA6;\n",
              "    }\n",
              "\n",
              "    [theme=dark] .colab-df-convert {\n",
              "      background-color: #3B4455;\n",
              "      fill: #D2E3FC;\n",
              "    }\n",
              "\n",
              "    [theme=dark] .colab-df-convert:hover {\n",
              "      background-color: #434B5C;\n",
              "      box-shadow: 0px 1px 3px 1px rgba(0, 0, 0, 0.15);\n",
              "      filter: drop-shadow(0px 1px 2px rgba(0, 0, 0, 0.3));\n",
              "      fill: #FFFFFF;\n",
              "    }\n",
              "  </style>\n",
              "\n",
              "      <script>\n",
              "        const buttonEl =\n",
              "          document.querySelector('#df-e2979636-32e2-4c16-b213-8ff6835eb54c button.colab-df-convert');\n",
              "        buttonEl.style.display =\n",
              "          google.colab.kernel.accessAllowed ? 'block' : 'none';\n",
              "\n",
              "        async function convertToInteractive(key) {\n",
              "          const element = document.querySelector('#df-e2979636-32e2-4c16-b213-8ff6835eb54c');\n",
              "          const dataTable =\n",
              "            await google.colab.kernel.invokeFunction('convertToInteractive',\n",
              "                                                     [key], {});\n",
              "          if (!dataTable) return;\n",
              "\n",
              "          const docLinkHtml = 'Like what you see? Visit the ' +\n",
              "            '<a target=\"_blank\" href=https://colab.research.google.com/notebooks/data_table.ipynb>data table notebook</a>'\n",
              "            + ' to learn more about interactive tables.';\n",
              "          element.innerHTML = '';\n",
              "          dataTable['output_type'] = 'display_data';\n",
              "          await google.colab.output.renderOutput(dataTable, element);\n",
              "          const docLink = document.createElement('div');\n",
              "          docLink.innerHTML = docLinkHtml;\n",
              "          element.appendChild(docLink);\n",
              "        }\n",
              "      </script>\n",
              "    </div>\n",
              "  </div>\n",
              "  "
            ]
          },
          "metadata": {},
          "execution_count": 5
        }
      ]
    },
    {
      "cell_type": "code",
      "source": [
        "y = y.pivot(index='visit_date', columns='air_store_id')['visitors']\n",
        "y.head()"
      ],
      "metadata": {
        "id": "-UbeThS1CGbp",
        "colab": {
          "base_uri": "https://localhost:8080/",
          "height": 331
        },
        "outputId": "239da156-7cb2-4977-e652-a73f934b933b"
      },
      "execution_count": null,
      "outputs": [
        {
          "output_type": "execute_result",
          "data": {
            "text/plain": [
              "air_store_id  air_00a91d42b08b08d9  air_0164b9927d20bcc3  \\\n",
              "visit_date                                                 \n",
              "2016-01-01                     NaN                   NaN   \n",
              "2016-01-02                     NaN                   NaN   \n",
              "2016-01-03                     NaN                   NaN   \n",
              "2016-01-04                     NaN                   NaN   \n",
              "2016-01-05                     NaN                   NaN   \n",
              "\n",
              "air_store_id  air_0241aa3964b7f861  air_0328696196e46f18  \\\n",
              "visit_date                                                 \n",
              "2016-01-01                     NaN                   NaN   \n",
              "2016-01-02                     NaN                   NaN   \n",
              "2016-01-03                    10.0                   NaN   \n",
              "2016-01-04                     9.0                   NaN   \n",
              "2016-01-05                    17.0                   NaN   \n",
              "\n",
              "air_store_id  air_034a3d5b40d5b1b1  air_036d4f1ee7285390  \\\n",
              "visit_date                                                 \n",
              "2016-01-01                     NaN                   NaN   \n",
              "2016-01-02                     NaN                   NaN   \n",
              "2016-01-03                     NaN                   NaN   \n",
              "2016-01-04                     NaN                   NaN   \n",
              "2016-01-05                     NaN                   NaN   \n",
              "\n",
              "air_store_id  air_0382c794b73b51ad  air_03963426c9312048  \\\n",
              "visit_date                                                 \n",
              "2016-01-01                     NaN                   NaN   \n",
              "2016-01-02                     NaN                   NaN   \n",
              "2016-01-03                     NaN                   NaN   \n",
              "2016-01-04                     NaN                  62.0   \n",
              "2016-01-05                     NaN                  30.0   \n",
              "\n",
              "air_store_id  air_04341b588bde96cd  air_049f6d5b402a31b2  ...  \\\n",
              "visit_date                                                ...   \n",
              "2016-01-01                    10.0                   NaN  ...   \n",
              "2016-01-02                     NaN                   NaN  ...   \n",
              "2016-01-03                     NaN                   NaN  ...   \n",
              "2016-01-04                    23.0                   NaN  ...   \n",
              "2016-01-05                    35.0                   NaN  ...   \n",
              "\n",
              "air_store_id  air_fd6aac1043520e83  air_fdc02ec4a3d21ea4  \\\n",
              "visit_date                                                 \n",
              "2016-01-01                     NaN                   NaN   \n",
              "2016-01-02                     NaN                   NaN   \n",
              "2016-01-03                     NaN                   NaN   \n",
              "2016-01-04                    28.0                   NaN   \n",
              "2016-01-05                    36.0                   NaN   \n",
              "\n",
              "air_store_id  air_fdcfef8bd859f650  air_fe22ef5a9cbef123  \\\n",
              "visit_date                                                 \n",
              "2016-01-01                     NaN                  21.0   \n",
              "2016-01-02                     NaN                  37.0   \n",
              "2016-01-03                     NaN                  14.0   \n",
              "2016-01-04                     NaN                   NaN   \n",
              "2016-01-05                     NaN                   NaN   \n",
              "\n",
              "air_store_id  air_fe58c074ec1445ea  air_fea5dc9594450608  \\\n",
              "visit_date                                                 \n",
              "2016-01-01                     NaN                   NaN   \n",
              "2016-01-02                     NaN                   NaN   \n",
              "2016-01-03                     NaN                   NaN   \n",
              "2016-01-04                     NaN                   NaN   \n",
              "2016-01-05                    32.0                   NaN   \n",
              "\n",
              "air_store_id  air_fee8dcf4d619598e  air_fef9ccb3ba0da2f7  \\\n",
              "visit_date                                                 \n",
              "2016-01-01                     NaN                   NaN   \n",
              "2016-01-02                     NaN                   NaN   \n",
              "2016-01-03                     NaN                   NaN   \n",
              "2016-01-04                     NaN                   NaN   \n",
              "2016-01-05                     NaN                   NaN   \n",
              "\n",
              "air_store_id  air_ffcc2d5087e1b476  air_fff68b929994bfbd  \n",
              "visit_date                                                \n",
              "2016-01-01                     NaN                   NaN  \n",
              "2016-01-02                     NaN                   NaN  \n",
              "2016-01-03                     NaN                   NaN  \n",
              "2016-01-04                     NaN                   NaN  \n",
              "2016-01-05                     NaN                   NaN  \n",
              "\n",
              "[5 rows x 829 columns]"
            ],
            "text/html": [
              "\n",
              "  <div id=\"df-bd1c368c-73fc-4b78-be06-2eecd0923151\">\n",
              "    <div class=\"colab-df-container\">\n",
              "      <div>\n",
              "<style scoped>\n",
              "    .dataframe tbody tr th:only-of-type {\n",
              "        vertical-align: middle;\n",
              "    }\n",
              "\n",
              "    .dataframe tbody tr th {\n",
              "        vertical-align: top;\n",
              "    }\n",
              "\n",
              "    .dataframe thead th {\n",
              "        text-align: right;\n",
              "    }\n",
              "</style>\n",
              "<table border=\"1\" class=\"dataframe\">\n",
              "  <thead>\n",
              "    <tr style=\"text-align: right;\">\n",
              "      <th>air_store_id</th>\n",
              "      <th>air_00a91d42b08b08d9</th>\n",
              "      <th>air_0164b9927d20bcc3</th>\n",
              "      <th>air_0241aa3964b7f861</th>\n",
              "      <th>air_0328696196e46f18</th>\n",
              "      <th>air_034a3d5b40d5b1b1</th>\n",
              "      <th>air_036d4f1ee7285390</th>\n",
              "      <th>air_0382c794b73b51ad</th>\n",
              "      <th>air_03963426c9312048</th>\n",
              "      <th>air_04341b588bde96cd</th>\n",
              "      <th>air_049f6d5b402a31b2</th>\n",
              "      <th>...</th>\n",
              "      <th>air_fd6aac1043520e83</th>\n",
              "      <th>air_fdc02ec4a3d21ea4</th>\n",
              "      <th>air_fdcfef8bd859f650</th>\n",
              "      <th>air_fe22ef5a9cbef123</th>\n",
              "      <th>air_fe58c074ec1445ea</th>\n",
              "      <th>air_fea5dc9594450608</th>\n",
              "      <th>air_fee8dcf4d619598e</th>\n",
              "      <th>air_fef9ccb3ba0da2f7</th>\n",
              "      <th>air_ffcc2d5087e1b476</th>\n",
              "      <th>air_fff68b929994bfbd</th>\n",
              "    </tr>\n",
              "    <tr>\n",
              "      <th>visit_date</th>\n",
              "      <th></th>\n",
              "      <th></th>\n",
              "      <th></th>\n",
              "      <th></th>\n",
              "      <th></th>\n",
              "      <th></th>\n",
              "      <th></th>\n",
              "      <th></th>\n",
              "      <th></th>\n",
              "      <th></th>\n",
              "      <th></th>\n",
              "      <th></th>\n",
              "      <th></th>\n",
              "      <th></th>\n",
              "      <th></th>\n",
              "      <th></th>\n",
              "      <th></th>\n",
              "      <th></th>\n",
              "      <th></th>\n",
              "      <th></th>\n",
              "      <th></th>\n",
              "    </tr>\n",
              "  </thead>\n",
              "  <tbody>\n",
              "    <tr>\n",
              "      <th>2016-01-01</th>\n",
              "      <td>NaN</td>\n",
              "      <td>NaN</td>\n",
              "      <td>NaN</td>\n",
              "      <td>NaN</td>\n",
              "      <td>NaN</td>\n",
              "      <td>NaN</td>\n",
              "      <td>NaN</td>\n",
              "      <td>NaN</td>\n",
              "      <td>10.0</td>\n",
              "      <td>NaN</td>\n",
              "      <td>...</td>\n",
              "      <td>NaN</td>\n",
              "      <td>NaN</td>\n",
              "      <td>NaN</td>\n",
              "      <td>21.0</td>\n",
              "      <td>NaN</td>\n",
              "      <td>NaN</td>\n",
              "      <td>NaN</td>\n",
              "      <td>NaN</td>\n",
              "      <td>NaN</td>\n",
              "      <td>NaN</td>\n",
              "    </tr>\n",
              "    <tr>\n",
              "      <th>2016-01-02</th>\n",
              "      <td>NaN</td>\n",
              "      <td>NaN</td>\n",
              "      <td>NaN</td>\n",
              "      <td>NaN</td>\n",
              "      <td>NaN</td>\n",
              "      <td>NaN</td>\n",
              "      <td>NaN</td>\n",
              "      <td>NaN</td>\n",
              "      <td>NaN</td>\n",
              "      <td>NaN</td>\n",
              "      <td>...</td>\n",
              "      <td>NaN</td>\n",
              "      <td>NaN</td>\n",
              "      <td>NaN</td>\n",
              "      <td>37.0</td>\n",
              "      <td>NaN</td>\n",
              "      <td>NaN</td>\n",
              "      <td>NaN</td>\n",
              "      <td>NaN</td>\n",
              "      <td>NaN</td>\n",
              "      <td>NaN</td>\n",
              "    </tr>\n",
              "    <tr>\n",
              "      <th>2016-01-03</th>\n",
              "      <td>NaN</td>\n",
              "      <td>NaN</td>\n",
              "      <td>10.0</td>\n",
              "      <td>NaN</td>\n",
              "      <td>NaN</td>\n",
              "      <td>NaN</td>\n",
              "      <td>NaN</td>\n",
              "      <td>NaN</td>\n",
              "      <td>NaN</td>\n",
              "      <td>NaN</td>\n",
              "      <td>...</td>\n",
              "      <td>NaN</td>\n",
              "      <td>NaN</td>\n",
              "      <td>NaN</td>\n",
              "      <td>14.0</td>\n",
              "      <td>NaN</td>\n",
              "      <td>NaN</td>\n",
              "      <td>NaN</td>\n",
              "      <td>NaN</td>\n",
              "      <td>NaN</td>\n",
              "      <td>NaN</td>\n",
              "    </tr>\n",
              "    <tr>\n",
              "      <th>2016-01-04</th>\n",
              "      <td>NaN</td>\n",
              "      <td>NaN</td>\n",
              "      <td>9.0</td>\n",
              "      <td>NaN</td>\n",
              "      <td>NaN</td>\n",
              "      <td>NaN</td>\n",
              "      <td>NaN</td>\n",
              "      <td>62.0</td>\n",
              "      <td>23.0</td>\n",
              "      <td>NaN</td>\n",
              "      <td>...</td>\n",
              "      <td>28.0</td>\n",
              "      <td>NaN</td>\n",
              "      <td>NaN</td>\n",
              "      <td>NaN</td>\n",
              "      <td>NaN</td>\n",
              "      <td>NaN</td>\n",
              "      <td>NaN</td>\n",
              "      <td>NaN</td>\n",
              "      <td>NaN</td>\n",
              "      <td>NaN</td>\n",
              "    </tr>\n",
              "    <tr>\n",
              "      <th>2016-01-05</th>\n",
              "      <td>NaN</td>\n",
              "      <td>NaN</td>\n",
              "      <td>17.0</td>\n",
              "      <td>NaN</td>\n",
              "      <td>NaN</td>\n",
              "      <td>NaN</td>\n",
              "      <td>NaN</td>\n",
              "      <td>30.0</td>\n",
              "      <td>35.0</td>\n",
              "      <td>NaN</td>\n",
              "      <td>...</td>\n",
              "      <td>36.0</td>\n",
              "      <td>NaN</td>\n",
              "      <td>NaN</td>\n",
              "      <td>NaN</td>\n",
              "      <td>32.0</td>\n",
              "      <td>NaN</td>\n",
              "      <td>NaN</td>\n",
              "      <td>NaN</td>\n",
              "      <td>NaN</td>\n",
              "      <td>NaN</td>\n",
              "    </tr>\n",
              "  </tbody>\n",
              "</table>\n",
              "<p>5 rows × 829 columns</p>\n",
              "</div>\n",
              "      <button class=\"colab-df-convert\" onclick=\"convertToInteractive('df-bd1c368c-73fc-4b78-be06-2eecd0923151')\"\n",
              "              title=\"Convert this dataframe to an interactive table.\"\n",
              "              style=\"display:none;\">\n",
              "        \n",
              "  <svg xmlns=\"http://www.w3.org/2000/svg\" height=\"24px\"viewBox=\"0 0 24 24\"\n",
              "       width=\"24px\">\n",
              "    <path d=\"M0 0h24v24H0V0z\" fill=\"none\"/>\n",
              "    <path d=\"M18.56 5.44l.94 2.06.94-2.06 2.06-.94-2.06-.94-.94-2.06-.94 2.06-2.06.94zm-11 1L8.5 8.5l.94-2.06 2.06-.94-2.06-.94L8.5 2.5l-.94 2.06-2.06.94zm10 10l.94 2.06.94-2.06 2.06-.94-2.06-.94-.94-2.06-.94 2.06-2.06.94z\"/><path d=\"M17.41 7.96l-1.37-1.37c-.4-.4-.92-.59-1.43-.59-.52 0-1.04.2-1.43.59L10.3 9.45l-7.72 7.72c-.78.78-.78 2.05 0 2.83L4 21.41c.39.39.9.59 1.41.59.51 0 1.02-.2 1.41-.59l7.78-7.78 2.81-2.81c.8-.78.8-2.07 0-2.86zM5.41 20L4 18.59l7.72-7.72 1.47 1.35L5.41 20z\"/>\n",
              "  </svg>\n",
              "      </button>\n",
              "      \n",
              "  <style>\n",
              "    .colab-df-container {\n",
              "      display:flex;\n",
              "      flex-wrap:wrap;\n",
              "      gap: 12px;\n",
              "    }\n",
              "\n",
              "    .colab-df-convert {\n",
              "      background-color: #E8F0FE;\n",
              "      border: none;\n",
              "      border-radius: 50%;\n",
              "      cursor: pointer;\n",
              "      display: none;\n",
              "      fill: #1967D2;\n",
              "      height: 32px;\n",
              "      padding: 0 0 0 0;\n",
              "      width: 32px;\n",
              "    }\n",
              "\n",
              "    .colab-df-convert:hover {\n",
              "      background-color: #E2EBFA;\n",
              "      box-shadow: 0px 1px 2px rgba(60, 64, 67, 0.3), 0px 1px 3px 1px rgba(60, 64, 67, 0.15);\n",
              "      fill: #174EA6;\n",
              "    }\n",
              "\n",
              "    [theme=dark] .colab-df-convert {\n",
              "      background-color: #3B4455;\n",
              "      fill: #D2E3FC;\n",
              "    }\n",
              "\n",
              "    [theme=dark] .colab-df-convert:hover {\n",
              "      background-color: #434B5C;\n",
              "      box-shadow: 0px 1px 3px 1px rgba(0, 0, 0, 0.15);\n",
              "      filter: drop-shadow(0px 1px 2px rgba(0, 0, 0, 0.3));\n",
              "      fill: #FFFFFF;\n",
              "    }\n",
              "  </style>\n",
              "\n",
              "      <script>\n",
              "        const buttonEl =\n",
              "          document.querySelector('#df-bd1c368c-73fc-4b78-be06-2eecd0923151 button.colab-df-convert');\n",
              "        buttonEl.style.display =\n",
              "          google.colab.kernel.accessAllowed ? 'block' : 'none';\n",
              "\n",
              "        async function convertToInteractive(key) {\n",
              "          const element = document.querySelector('#df-bd1c368c-73fc-4b78-be06-2eecd0923151');\n",
              "          const dataTable =\n",
              "            await google.colab.kernel.invokeFunction('convertToInteractive',\n",
              "                                                     [key], {});\n",
              "          if (!dataTable) return;\n",
              "\n",
              "          const docLinkHtml = 'Like what you see? Visit the ' +\n",
              "            '<a target=\"_blank\" href=https://colab.research.google.com/notebooks/data_table.ipynb>data table notebook</a>'\n",
              "            + ' to learn more about interactive tables.';\n",
              "          element.innerHTML = '';\n",
              "          dataTable['output_type'] = 'display_data';\n",
              "          await google.colab.output.renderOutput(dataTable, element);\n",
              "          const docLink = document.createElement('div');\n",
              "          docLink.innerHTML = docLinkHtml;\n",
              "          element.appendChild(docLink);\n",
              "        }\n",
              "      </script>\n",
              "    </div>\n",
              "  </div>\n",
              "  "
            ]
          },
          "metadata": {},
          "execution_count": 6
        }
      ]
    },
    {
      "cell_type": "code",
      "source": [
        "y = y.fillna(0)"
      ],
      "metadata": {
        "id": "BwmgsqV8ycXf"
      },
      "execution_count": null,
      "outputs": []
    },
    {
      "cell_type": "code",
      "source": [
        "y = pd.DataFrame(y.sum(axis=1))"
      ],
      "metadata": {
        "id": "42htp7K8ycaJ"
      },
      "execution_count": null,
      "outputs": []
    },
    {
      "cell_type": "code",
      "source": [
        "y.head()"
      ],
      "metadata": {
        "colab": {
          "base_uri": "https://localhost:8080/",
          "height": 237
        },
        "id": "0_Jx9GbHgq7w",
        "outputId": "be310199-96dc-4933-9ee5-ac57e22f25af"
      },
      "execution_count": null,
      "outputs": [
        {
          "output_type": "execute_result",
          "data": {
            "text/plain": [
              "                 0\n",
              "visit_date        \n",
              "2016-01-01  1033.0\n",
              "2016-01-02  1764.0\n",
              "2016-01-03  2368.0\n",
              "2016-01-04  3326.0\n",
              "2016-01-05  3927.0"
            ],
            "text/html": [
              "\n",
              "  <div id=\"df-6b9154c2-20bc-426c-8e30-339be6407d17\">\n",
              "    <div class=\"colab-df-container\">\n",
              "      <div>\n",
              "<style scoped>\n",
              "    .dataframe tbody tr th:only-of-type {\n",
              "        vertical-align: middle;\n",
              "    }\n",
              "\n",
              "    .dataframe tbody tr th {\n",
              "        vertical-align: top;\n",
              "    }\n",
              "\n",
              "    .dataframe thead th {\n",
              "        text-align: right;\n",
              "    }\n",
              "</style>\n",
              "<table border=\"1\" class=\"dataframe\">\n",
              "  <thead>\n",
              "    <tr style=\"text-align: right;\">\n",
              "      <th></th>\n",
              "      <th>0</th>\n",
              "    </tr>\n",
              "    <tr>\n",
              "      <th>visit_date</th>\n",
              "      <th></th>\n",
              "    </tr>\n",
              "  </thead>\n",
              "  <tbody>\n",
              "    <tr>\n",
              "      <th>2016-01-01</th>\n",
              "      <td>1033.0</td>\n",
              "    </tr>\n",
              "    <tr>\n",
              "      <th>2016-01-02</th>\n",
              "      <td>1764.0</td>\n",
              "    </tr>\n",
              "    <tr>\n",
              "      <th>2016-01-03</th>\n",
              "      <td>2368.0</td>\n",
              "    </tr>\n",
              "    <tr>\n",
              "      <th>2016-01-04</th>\n",
              "      <td>3326.0</td>\n",
              "    </tr>\n",
              "    <tr>\n",
              "      <th>2016-01-05</th>\n",
              "      <td>3927.0</td>\n",
              "    </tr>\n",
              "  </tbody>\n",
              "</table>\n",
              "</div>\n",
              "      <button class=\"colab-df-convert\" onclick=\"convertToInteractive('df-6b9154c2-20bc-426c-8e30-339be6407d17')\"\n",
              "              title=\"Convert this dataframe to an interactive table.\"\n",
              "              style=\"display:none;\">\n",
              "        \n",
              "  <svg xmlns=\"http://www.w3.org/2000/svg\" height=\"24px\"viewBox=\"0 0 24 24\"\n",
              "       width=\"24px\">\n",
              "    <path d=\"M0 0h24v24H0V0z\" fill=\"none\"/>\n",
              "    <path d=\"M18.56 5.44l.94 2.06.94-2.06 2.06-.94-2.06-.94-.94-2.06-.94 2.06-2.06.94zm-11 1L8.5 8.5l.94-2.06 2.06-.94-2.06-.94L8.5 2.5l-.94 2.06-2.06.94zm10 10l.94 2.06.94-2.06 2.06-.94-2.06-.94-.94-2.06-.94 2.06-2.06.94z\"/><path d=\"M17.41 7.96l-1.37-1.37c-.4-.4-.92-.59-1.43-.59-.52 0-1.04.2-1.43.59L10.3 9.45l-7.72 7.72c-.78.78-.78 2.05 0 2.83L4 21.41c.39.39.9.59 1.41.59.51 0 1.02-.2 1.41-.59l7.78-7.78 2.81-2.81c.8-.78.8-2.07 0-2.86zM5.41 20L4 18.59l7.72-7.72 1.47 1.35L5.41 20z\"/>\n",
              "  </svg>\n",
              "      </button>\n",
              "      \n",
              "  <style>\n",
              "    .colab-df-container {\n",
              "      display:flex;\n",
              "      flex-wrap:wrap;\n",
              "      gap: 12px;\n",
              "    }\n",
              "\n",
              "    .colab-df-convert {\n",
              "      background-color: #E8F0FE;\n",
              "      border: none;\n",
              "      border-radius: 50%;\n",
              "      cursor: pointer;\n",
              "      display: none;\n",
              "      fill: #1967D2;\n",
              "      height: 32px;\n",
              "      padding: 0 0 0 0;\n",
              "      width: 32px;\n",
              "    }\n",
              "\n",
              "    .colab-df-convert:hover {\n",
              "      background-color: #E2EBFA;\n",
              "      box-shadow: 0px 1px 2px rgba(60, 64, 67, 0.3), 0px 1px 3px 1px rgba(60, 64, 67, 0.15);\n",
              "      fill: #174EA6;\n",
              "    }\n",
              "\n",
              "    [theme=dark] .colab-df-convert {\n",
              "      background-color: #3B4455;\n",
              "      fill: #D2E3FC;\n",
              "    }\n",
              "\n",
              "    [theme=dark] .colab-df-convert:hover {\n",
              "      background-color: #434B5C;\n",
              "      box-shadow: 0px 1px 3px 1px rgba(0, 0, 0, 0.15);\n",
              "      filter: drop-shadow(0px 1px 2px rgba(0, 0, 0, 0.3));\n",
              "      fill: #FFFFFF;\n",
              "    }\n",
              "  </style>\n",
              "\n",
              "      <script>\n",
              "        const buttonEl =\n",
              "          document.querySelector('#df-6b9154c2-20bc-426c-8e30-339be6407d17 button.colab-df-convert');\n",
              "        buttonEl.style.display =\n",
              "          google.colab.kernel.accessAllowed ? 'block' : 'none';\n",
              "\n",
              "        async function convertToInteractive(key) {\n",
              "          const element = document.querySelector('#df-6b9154c2-20bc-426c-8e30-339be6407d17');\n",
              "          const dataTable =\n",
              "            await google.colab.kernel.invokeFunction('convertToInteractive',\n",
              "                                                     [key], {});\n",
              "          if (!dataTable) return;\n",
              "\n",
              "          const docLinkHtml = 'Like what you see? Visit the ' +\n",
              "            '<a target=\"_blank\" href=https://colab.research.google.com/notebooks/data_table.ipynb>data table notebook</a>'\n",
              "            + ' to learn more about interactive tables.';\n",
              "          element.innerHTML = '';\n",
              "          dataTable['output_type'] = 'display_data';\n",
              "          await google.colab.output.renderOutput(dataTable, element);\n",
              "          const docLink = document.createElement('div');\n",
              "          docLink.innerHTML = docLinkHtml;\n",
              "          element.appendChild(docLink);\n",
              "        }\n",
              "      </script>\n",
              "    </div>\n",
              "  </div>\n",
              "  "
            ]
          },
          "metadata": {},
          "execution_count": 9
        }
      ]
    },
    {
      "cell_type": "code",
      "source": [
        "# This is how the model recognizes the date column (‘date’) and the dependent variable (‘y’). \n",
        "y = y.reset_index(drop=False)\n",
        "y.columns = ['date', 'y']"
      ],
      "metadata": {
        "id": "neDzRbazycdJ"
      },
      "execution_count": null,
      "outputs": []
    },
    {
      "cell_type": "code",
      "source": [
        "y.head()"
      ],
      "metadata": {
        "colab": {
          "base_uri": "https://localhost:8080/",
          "height": 206
        },
        "id": "a1a23HTYg7Fd",
        "outputId": "00a184e9-e177-46fb-8a90-b435d056d3ec"
      },
      "execution_count": null,
      "outputs": [
        {
          "output_type": "execute_result",
          "data": {
            "text/plain": [
              "         date       y\n",
              "0  2016-01-01  1033.0\n",
              "1  2016-01-02  1764.0\n",
              "2  2016-01-03  2368.0\n",
              "3  2016-01-04  3326.0\n",
              "4  2016-01-05  3927.0"
            ],
            "text/html": [
              "\n",
              "  <div id=\"df-2e251704-4ca5-4a02-968d-e3f52e24ca18\">\n",
              "    <div class=\"colab-df-container\">\n",
              "      <div>\n",
              "<style scoped>\n",
              "    .dataframe tbody tr th:only-of-type {\n",
              "        vertical-align: middle;\n",
              "    }\n",
              "\n",
              "    .dataframe tbody tr th {\n",
              "        vertical-align: top;\n",
              "    }\n",
              "\n",
              "    .dataframe thead th {\n",
              "        text-align: right;\n",
              "    }\n",
              "</style>\n",
              "<table border=\"1\" class=\"dataframe\">\n",
              "  <thead>\n",
              "    <tr style=\"text-align: right;\">\n",
              "      <th></th>\n",
              "      <th>date</th>\n",
              "      <th>y</th>\n",
              "    </tr>\n",
              "  </thead>\n",
              "  <tbody>\n",
              "    <tr>\n",
              "      <th>0</th>\n",
              "      <td>2016-01-01</td>\n",
              "      <td>1033.0</td>\n",
              "    </tr>\n",
              "    <tr>\n",
              "      <th>1</th>\n",
              "      <td>2016-01-02</td>\n",
              "      <td>1764.0</td>\n",
              "    </tr>\n",
              "    <tr>\n",
              "      <th>2</th>\n",
              "      <td>2016-01-03</td>\n",
              "      <td>2368.0</td>\n",
              "    </tr>\n",
              "    <tr>\n",
              "      <th>3</th>\n",
              "      <td>2016-01-04</td>\n",
              "      <td>3326.0</td>\n",
              "    </tr>\n",
              "    <tr>\n",
              "      <th>4</th>\n",
              "      <td>2016-01-05</td>\n",
              "      <td>3927.0</td>\n",
              "    </tr>\n",
              "  </tbody>\n",
              "</table>\n",
              "</div>\n",
              "      <button class=\"colab-df-convert\" onclick=\"convertToInteractive('df-2e251704-4ca5-4a02-968d-e3f52e24ca18')\"\n",
              "              title=\"Convert this dataframe to an interactive table.\"\n",
              "              style=\"display:none;\">\n",
              "        \n",
              "  <svg xmlns=\"http://www.w3.org/2000/svg\" height=\"24px\"viewBox=\"0 0 24 24\"\n",
              "       width=\"24px\">\n",
              "    <path d=\"M0 0h24v24H0V0z\" fill=\"none\"/>\n",
              "    <path d=\"M18.56 5.44l.94 2.06.94-2.06 2.06-.94-2.06-.94-.94-2.06-.94 2.06-2.06.94zm-11 1L8.5 8.5l.94-2.06 2.06-.94-2.06-.94L8.5 2.5l-.94 2.06-2.06.94zm10 10l.94 2.06.94-2.06 2.06-.94-2.06-.94-.94-2.06-.94 2.06-2.06.94z\"/><path d=\"M17.41 7.96l-1.37-1.37c-.4-.4-.92-.59-1.43-.59-.52 0-1.04.2-1.43.59L10.3 9.45l-7.72 7.72c-.78.78-.78 2.05 0 2.83L4 21.41c.39.39.9.59 1.41.59.51 0 1.02-.2 1.41-.59l7.78-7.78 2.81-2.81c.8-.78.8-2.07 0-2.86zM5.41 20L4 18.59l7.72-7.72 1.47 1.35L5.41 20z\"/>\n",
              "  </svg>\n",
              "      </button>\n",
              "      \n",
              "  <style>\n",
              "    .colab-df-container {\n",
              "      display:flex;\n",
              "      flex-wrap:wrap;\n",
              "      gap: 12px;\n",
              "    }\n",
              "\n",
              "    .colab-df-convert {\n",
              "      background-color: #E8F0FE;\n",
              "      border: none;\n",
              "      border-radius: 50%;\n",
              "      cursor: pointer;\n",
              "      display: none;\n",
              "      fill: #1967D2;\n",
              "      height: 32px;\n",
              "      padding: 0 0 0 0;\n",
              "      width: 32px;\n",
              "    }\n",
              "\n",
              "    .colab-df-convert:hover {\n",
              "      background-color: #E2EBFA;\n",
              "      box-shadow: 0px 1px 2px rgba(60, 64, 67, 0.3), 0px 1px 3px 1px rgba(60, 64, 67, 0.15);\n",
              "      fill: #174EA6;\n",
              "    }\n",
              "\n",
              "    [theme=dark] .colab-df-convert {\n",
              "      background-color: #3B4455;\n",
              "      fill: #D2E3FC;\n",
              "    }\n",
              "\n",
              "    [theme=dark] .colab-df-convert:hover {\n",
              "      background-color: #434B5C;\n",
              "      box-shadow: 0px 1px 3px 1px rgba(0, 0, 0, 0.15);\n",
              "      filter: drop-shadow(0px 1px 2px rgba(0, 0, 0, 0.3));\n",
              "      fill: #FFFFFF;\n",
              "    }\n",
              "  </style>\n",
              "\n",
              "      <script>\n",
              "        const buttonEl =\n",
              "          document.querySelector('#df-2e251704-4ca5-4a02-968d-e3f52e24ca18 button.colab-df-convert');\n",
              "        buttonEl.style.display =\n",
              "          google.colab.kernel.accessAllowed ? 'block' : 'none';\n",
              "\n",
              "        async function convertToInteractive(key) {\n",
              "          const element = document.querySelector('#df-2e251704-4ca5-4a02-968d-e3f52e24ca18');\n",
              "          const dataTable =\n",
              "            await google.colab.kernel.invokeFunction('convertToInteractive',\n",
              "                                                     [key], {});\n",
              "          if (!dataTable) return;\n",
              "\n",
              "          const docLinkHtml = 'Like what you see? Visit the ' +\n",
              "            '<a target=\"_blank\" href=https://colab.research.google.com/notebooks/data_table.ipynb>data table notebook</a>'\n",
              "            + ' to learn more about interactive tables.';\n",
              "          element.innerHTML = '';\n",
              "          dataTable['output_type'] = 'display_data';\n",
              "          await google.colab.output.renderOutput(dataTable, element);\n",
              "          const docLink = document.createElement('div');\n",
              "          docLink.innerHTML = docLinkHtml;\n",
              "          element.appendChild(docLink);\n",
              "        }\n",
              "      </script>\n",
              "    </div>\n",
              "  </div>\n",
              "  "
            ]
          },
          "metadata": {},
          "execution_count": 11
        }
      ]
    },
    {
      "cell_type": "code",
      "source": [
        "y.shape"
      ],
      "metadata": {
        "colab": {
          "base_uri": "https://localhost:8080/"
        },
        "id": "6FfQtJCKg8Tx",
        "outputId": "b57f9717-e41a-431b-e905-4d4812820dd2"
      },
      "execution_count": null,
      "outputs": [
        {
          "output_type": "execute_result",
          "data": {
            "text/plain": [
              "(478, 2)"
            ]
          },
          "metadata": {},
          "execution_count": 12
        }
      ]
    },
    {
      "cell_type": "code",
      "source": [
        "start = pd.Timestamp(\"01-01-2016\", freq=\"D\")\n",
        "'''\n",
        "Unlogically, it is necessary to specify the seasonality “H” for hourly..\n",
        "..rather than “D” for daily to obtain a reasonably accurate forecast. \n",
        "This is likely due to an unresolved bug in gluonts at the time of writing.\n",
        "'''\n",
        "\n",
        "# train dataset: cut the last window of length \"prediction_length\", add \"target\" and \"start\" fields\n",
        "train_ds = ListDataset([{'target': y.loc[:450,'y'], 'start': start}], freq='D')\n",
        "\n",
        "# test dataset: use the whole dataset, add \"target\" and \"start\" fields\n",
        "test_ds = ListDataset([{'target': y['y'], 'start': start}],freq='D')"
      ],
      "metadata": {
        "id": "mKqtd8qHycf1",
        "colab": {
          "base_uri": "https://localhost:8080/"
        },
        "outputId": "d969d69a-6897-4fc3-bf12-4b97b691ae21"
      },
      "execution_count": null,
      "outputs": [
        {
          "output_type": "stream",
          "name": "stderr",
          "text": [
            "/usr/local/lib/python3.7/dist-packages/ipykernel_launcher.py:1: FutureWarning: The 'freq' argument in Timestamp is deprecated and will be removed in a future version.\n",
            "  \"\"\"Entry point for launching an IPython kernel.\n"
          ]
        }
      ]
    },
    {
      "cell_type": "markdown",
      "source": [
        "\n",
        "\n",
        "\n",
        "\n",
        "1. The ctx is where you can specify whether you want to run on CPU or on GPU. Running on GPU is much faster, but you can do this only if you have a GPU available on your hardware.\n",
        "\n",
        "2. The number of epochs is the number of times that you want all the data to be passed through the underlying deep neural network.\n",
        "\n",
        "3. The learning rate is the step size for the optimizer of the neural network: a larger learning rate allows you to make larger steps, but it can miss the optimum, whereas a smaller learning rate may make the optimization slow or let you get stuck in a local optimum.\n",
        "\n",
        "4. The prediction_length, which is the number of steps that you want to predict.\n",
        "\n",
        "\n",
        "\n"
      ],
      "metadata": {
        "id": "6QRgE6_71EG7"
      }
    },
    {
      "cell_type": "code",
      "source": [
        "np.random.seed(7)\n",
        "mx.random.seed(7)\n",
        "\n",
        "\n",
        "# need to create an estimator called the DeepAREstimator....which in turn uses a trainer.\n",
        "\n",
        "estimator = DeepAREstimator(prediction_length=28,\n",
        "                            context_length=100,\n",
        "                            freq='D',\n",
        "                            trainer=Trainer(#ctx=\"gpu\", # remove if running on windows\n",
        "                                            epochs=5,\n",
        "                                            learning_rate=1e-3,\n",
        "                                            num_batches_per_epoch=100)\n",
        "                            )\n",
        "\n",
        "predictor = estimator.train(train_ds)"
      ],
      "metadata": {
        "id": "ZzcjpeSxqRZh",
        "colab": {
          "base_uri": "https://localhost:8080/"
        },
        "outputId": "e56f9d54-17d3-4faa-da5f-37a6bb77bc54"
      },
      "execution_count": null,
      "outputs": [
        {
          "output_type": "stream",
          "name": "stderr",
          "text": [
            "100%|██████████| 100/100 [00:18<00:00,  5.33it/s, epoch=1/5, avg_epoch_loss=9.35]\n",
            "100%|██████████| 100/100 [00:17<00:00,  5.56it/s, epoch=2/5, avg_epoch_loss=8.41]\n",
            "100%|██████████| 100/100 [00:23<00:00,  4.18it/s, epoch=3/5, avg_epoch_loss=8.18]\n",
            "100%|██████████| 100/100 [00:35<00:00,  2.78it/s, epoch=4/5, avg_epoch_loss=8.07]\n",
            "100%|██████████| 100/100 [00:24<00:00,  4.13it/s, epoch=5/5, avg_epoch_loss=7.97]\n"
          ]
        }
      ]
    },
    {
      "cell_type": "code",
      "source": [
        "# Prediction\n",
        "\n",
        "predictions = predictor.predict(test_ds)\n",
        "predictions = list(predictions)[0]\n",
        "predictions = predictions.quantile(0.5)"
      ],
      "metadata": {
        "id": "XRptYePQzzE9"
      },
      "execution_count": null,
      "outputs": []
    },
    {
      "cell_type": "code",
      "source": [
        "# R2 score and prediction graph\n",
        "\n",
        "from sklearn.metrics import r2_score\n",
        "import matplotlib.pyplot as plt\n",
        "\n",
        "print(r2_score( list(test_ds)[0]['target'][-28:], predictions))\n",
        "\n",
        "plt.plot(predictions)\n",
        "plt.plot(list(test_ds)[0]['target'][-28:])\n",
        "plt.legend(['predictions', 'actuals'])\n",
        "plt.show()"
      ],
      "metadata": {
        "colab": {
          "base_uri": "https://localhost:8080/",
          "height": 282
        },
        "id": "nAQmnKkv5YXF",
        "outputId": "e3d6604e-34d3-4c20-c6fd-3010d1cc54e2"
      },
      "execution_count": null,
      "outputs": [
        {
          "output_type": "stream",
          "name": "stdout",
          "text": [
            "0.5765020124838169\n"
          ]
        },
        {
          "output_type": "display_data",
          "data": {
            "text/plain": [
              "<Figure size 432x288 with 1 Axes>"
            ],
            "image/png": "[encoded data removed]"
          },
          "metadata": {
            "needs_background": "light"
          }
        }
      ]
    },
    {
      "cell_type": "code",
      "source": [
        "# Probability forecast graph\n",
        "\n",
        "from gluonts.evaluation.backtest import make_evaluation_predictions\n",
        "\n",
        "forecast_it, ts_it = make_evaluation_predictions(\n",
        "    dataset=test_ds,  # test dataset\n",
        "    predictor=predictor,  # predictor\n",
        "    num_samples=100,  # number of sample paths we want for evaluation\n",
        ")\n",
        "\n",
        "forecasts = list(forecast_it)\n",
        "tss = list(ts_it)\n",
        "\n",
        "ts_entry = tss[0]\n",
        "forecast_entry = forecasts[0]\n",
        "\n",
        "def plot_prob_forecasts(ts_entry, forecast_entry):\n",
        "    plot_length = 150\n",
        "    prediction_intervals = (50.0, 90.0)\n",
        "    legend = [\"observations\", \"median prediction\"] + [f\"{k}% prediction interval\" for k in prediction_intervals][::-1]\n",
        "\n",
        "    fig, ax = plt.subplots(1, 1, figsize=(10, 7))\n",
        "    ts_entry[-plot_length:].plot(ax=ax)  # plot the time series\n",
        "    forecast_entry.plot(prediction_intervals=prediction_intervals, color='g')\n",
        "    plt.grid(which=\"both\")\n",
        "    plt.legend(legend, loc=\"upper left\")\n",
        "    plt.show()\n",
        "\n",
        "plot_prob_forecasts(ts_entry, forecast_entry)\n",
        "plt.show()"
      ],
      "metadata": {
        "colab": {
          "base_uri": "https://localhost:8080/",
          "height": 565
        },
        "id": "CaHzzrl1zzH3",
        "outputId": "56cc4746-0369-48cd-cccd-230d0ecac80f"
      },
      "execution_count": null,
      "outputs": [
        {
          "output_type": "stream",
          "name": "stderr",
          "text": [
            "/usr/local/lib/python3.7/dist-packages/gluonts/transform/feature.py:340: FutureWarning: Timestamp.freq is deprecated and will be removed in a future version\n",
            "  self._freq_base is None or self._freq_base == start.freq.base\n",
            "/usr/local/lib/python3.7/dist-packages/gluonts/transform/split.py:36: FutureWarning: Timestamp.freq is deprecated and will be removed in a future version\n",
            "  return _shift_timestamp_helper(ts, ts.freq, offset)\n",
            "/usr/local/lib/python3.7/dist-packages/gluonts/transform/feature.py:386: FutureWarning: Timestamp.freq is deprecated and will be removed in a future version\n",
            "  if self._full_range_date_features is not None\n"
          ]
        },
        {
          "output_type": "display_data",
          "data": {
            "text/plain": [
              "<Figure size 720x504 with 1 Axes>"
            ],
            "image/png": "[encoded data removed]"
          },
          "metadata": {
            "needs_background": "light"
          }
        }
      ]
    },
    {
      "cell_type": "code",
      "source": [
        "# Preparing holidays and reservations data and adding them into the ListDataset\n",
        "\n",
        "X_reservations = pd.read_csv('air_reserve.csv')\n",
        "X_reservations['visit_date'] = pd.to_datetime(X_reservations['visit_datetime']).dt.date\n",
        "X_reservations = pd.DataFrame(X_reservations.groupby('visit_date')['reserve_visitors'].sum())\n",
        "X_reservations = X_reservations.reset_index(drop = False)\n",
        "\n",
        "# Convert to datatime for merging correctly\n",
        "y.date = pd.to_datetime(y.date)\n",
        "X_reservations.visit_date = pd.to_datetime(X_reservations.visit_date)\n",
        "\n",
        "# Merging and filling missing dates with 0\n",
        "y = y.merge(X_reservations, left_on = 'date', right_on =  'visit_date', how = 'left').fillna(0)\n",
        "\n",
        "# Preparing and merging holidays data\n",
        "holidays = pd.read_csv('air_date_info.csv')\n",
        "holidays.calendar_date = pd.to_datetime(holidays.calendar_date)\n",
        "y = y.merge(holidays, left_on = 'date', right_on = 'calendar_date', how = 'left').fillna(0)\n",
        "\n",
        "# Preparing the ListDatasets\n",
        "\n",
        "train_ds = ListDataset([{\n",
        "    'target': y.loc[:450,'y'],\n",
        "    'start': start,\n",
        "    'feat_dynamic_real': y.loc[:450,['reserve_visitors', 'holiday_flg']].values\n",
        "    }], freq='H')\n",
        "\n",
        "test_ds = ListDataset([{\n",
        "    'target': y['y'], \n",
        "    'start': start, \n",
        "    'feat_dynamic_real': y.loc[:,['reserve_visitors', 'holiday_flg']].values\n",
        "    }],freq='H')"
      ],
      "metadata": {
        "id": "bWk7mVmkzzKo"
      },
      "execution_count": null,
      "outputs": []
    },
    {
      "cell_type": "code",
      "source": [
        "# Same code for fitting a different model: this model contains the two additional regressors\n",
        "\n",
        "np.random.seed(7)\n",
        "mx.random.seed(7)\n",
        "\n",
        "# Build and fit model\n",
        "estimator = DeepAREstimator(\n",
        "    prediction_length=28,\n",
        "    context_length=100,\n",
        "    freq='D',\n",
        "    trainer=Trainer(# ctx=\"gpu\", # remove if running on windows\n",
        "                    epochs=5,\n",
        "                    learning_rate=1e-3,\n",
        "                    num_batches_per_epoch=100\n",
        "                   )\n",
        ")\n",
        "\n",
        "predictor = estimator.train(train_ds)\n",
        "\n",
        "# Make Predictions\n",
        "predictions = predictor.predict(test_ds)\n",
        "predictions = list(predictions)[0]\n",
        "predictions = predictions.quantile(0.5)\n",
        "\n",
        "# Compute and print R2 score\n",
        "print(r2_score( list(test_ds)[0]['target'][-28:], predictions))\n"
      ],
      "metadata": {
        "colab": {
          "base_uri": "https://localhost:8080/"
        },
        "id": "2gSnsi4d53TX",
        "outputId": "7109b6a1-bac8-49d1-891a-437b96b5c2e3"
      },
      "execution_count": null,
      "outputs": [
        {
          "output_type": "stream",
          "name": "stderr",
          "text": [
            "/usr/local/lib/python3.7/dist-packages/gluonts/dataset/common.py:324: FutureWarning: The 'freq' argument in Timestamp is deprecated and will be removed in a future version.\n",
            "  timestamp = pd.Timestamp(timestamp_input, freq=freq)\n",
            "/usr/local/lib/python3.7/dist-packages/gluonts/dataset/common.py:327: FutureWarning: Timestamp.freq is deprecated and will be removed in a future version\n",
            "  if isinstance(timestamp.freq, Tick):\n",
            "/usr/local/lib/python3.7/dist-packages/gluonts/dataset/common.py:329: FutureWarning: Timestamp.freq is deprecated and will be removed in a future version\n",
            "  timestamp.floor(timestamp.freq), timestamp.freq\n",
            "/usr/local/lib/python3.7/dist-packages/gluonts/dataset/common.py:329: FutureWarning: The 'freq' argument in Timestamp is deprecated and will be removed in a future version.\n",
            "  timestamp.floor(timestamp.freq), timestamp.freq\n",
            "/usr/local/lib/python3.7/dist-packages/gluonts/transform/feature.py:343: FutureWarning: Timestamp.freq is deprecated and will be removed in a future version\n",
            "  self._freq_base = start.freq.base\n",
            "/usr/local/lib/python3.7/dist-packages/gluonts/transform/split.py:36: FutureWarning: Timestamp.freq is deprecated and will be removed in a future version\n",
            "  return _shift_timestamp_helper(ts, ts.freq, offset)\n",
            "/usr/local/lib/python3.7/dist-packages/gluonts/transform/feature.py:386: FutureWarning: Timestamp.freq is deprecated and will be removed in a future version\n",
            "  if self._full_range_date_features is not None\n",
            "  0%|          | 0/100 [00:00<?, ?it/s]/usr/local/lib/python3.7/dist-packages/gluonts/transform/feature.py:340: FutureWarning: Timestamp.freq is deprecated and will be removed in a future version\n",
            "  self._freq_base is None or self._freq_base == start.freq.base\n",
            "/usr/local/lib/python3.7/dist-packages/gluonts/transform/split.py:36: FutureWarning: Timestamp.freq is deprecated and will be removed in a future version\n",
            "  return _shift_timestamp_helper(ts, ts.freq, offset)\n",
            "/usr/local/lib/python3.7/dist-packages/gluonts/transform/feature.py:340: FutureWarning: Timestamp.freq is deprecated and will be removed in a future version\n",
            "  self._freq_base is None or self._freq_base == start.freq.base\n",
            "/usr/local/lib/python3.7/dist-packages/gluonts/transform/feature.py:386: FutureWarning: Timestamp.freq is deprecated and will be removed in a future version\n",
            "  if self._full_range_date_features is not None\n",
            "100%|██████████| 100/100 [00:19<00:00,  5.23it/s, epoch=1/5, avg_epoch_loss=9.41]\n",
            "100%|██████████| 100/100 [00:21<00:00,  4.68it/s, epoch=2/5, avg_epoch_loss=8.48]\n",
            "100%|██████████| 100/100 [00:20<00:00,  4.99it/s, epoch=3/5, avg_epoch_loss=8.26]\n",
            "100%|██████████| 100/100 [00:18<00:00,  5.40it/s, epoch=4/5, avg_epoch_loss=8.16]\n",
            "100%|██████████| 100/100 [00:18<00:00,  5.42it/s, epoch=5/5, avg_epoch_loss=8.08]\n"
          ]
        },
        {
          "output_type": "stream",
          "name": "stdout",
          "text": [
            "0.8375022534066059\n"
          ]
        }
      ]
    },
    {
      "cell_type": "code",
      "source": [
        ""
      ],
      "metadata": {
        "id": "11LNZh13zzRX"
      },
      "execution_count": null,
      "outputs": []
    },
    {
      "cell_type": "code",
      "source": [
        "# Tuning the hyperparameters\n",
        "\n",
        "np.random.seed(7)\n",
        "mx.random.seed(7)\n",
        "\n",
        "results = []\n",
        "\n",
        "for learning_rate in [1e-4, 1e-2]:\n",
        "  for num_layers in [2, 5]:\n",
        "    for num_cells in [30, 100]:\n",
        "\n",
        "      estimator = DeepAREstimator(\n",
        "          prediction_length=28,\n",
        "          freq='D',\n",
        "          trainer=Trainer(# ctx=\"gpu\", # remove if on Windows\n",
        "                          epochs=10,\n",
        "                          learning_rate=learning_rate,\n",
        "                          num_batches_per_epoch=100\n",
        "                        ),\n",
        "          num_layers = num_layers,\n",
        "          num_cells = num_cells,\n",
        "      )\n",
        "\n",
        "      predictor = estimator.train(train_ds)\n",
        "\n",
        "      predictions = predictor.predict(test_ds)\n",
        "\n",
        "      r2 = r2_score(list(predictions)[0].quantile(0.5), list(test_ds)[0]['target'][-28:])\n",
        "      result = [learning_rate, num_layers, num_cells, r2]\n",
        "      print(result)\n",
        "      results.append(result)"
      ],
      "metadata": {
        "colab": {
          "base_uri": "https://localhost:8080/"
        },
        "id": "ItFFeoY36Tvl",
        "outputId": "ac6e2b4d-f5ed-43a0-f961-65c79e1697b2"
      },
      "execution_count": null,
      "outputs": [
        {
          "output_type": "stream",
          "name": "stderr",
          "text": [
            "/usr/local/lib/python3.7/dist-packages/gluonts/transform/feature.py:343: FutureWarning: Timestamp.freq is deprecated and will be removed in a future version\n",
            "  self._freq_base = start.freq.base\n",
            "/usr/local/lib/python3.7/dist-packages/gluonts/transform/split.py:36: FutureWarning: Timestamp.freq is deprecated and will be removed in a future version\n",
            "  return _shift_timestamp_helper(ts, ts.freq, offset)\n",
            "/usr/local/lib/python3.7/dist-packages/gluonts/transform/feature.py:386: FutureWarning: Timestamp.freq is deprecated and will be removed in a future version\n",
            "  if self._full_range_date_features is not None\n",
            "  0%|          | 0/100 [00:00<?, ?it/s]/usr/local/lib/python3.7/dist-packages/gluonts/transform/feature.py:340: FutureWarning: Timestamp.freq is deprecated and will be removed in a future version\n",
            "  self._freq_base is None or self._freq_base == start.freq.base\n",
            "/usr/local/lib/python3.7/dist-packages/gluonts/transform/split.py:36: FutureWarning: Timestamp.freq is deprecated and will be removed in a future version\n",
            "  return _shift_timestamp_helper(ts, ts.freq, offset)\n",
            "/usr/local/lib/python3.7/dist-packages/gluonts/transform/feature.py:340: FutureWarning: Timestamp.freq is deprecated and will be removed in a future version\n",
            "  self._freq_base is None or self._freq_base == start.freq.base\n",
            "/usr/local/lib/python3.7/dist-packages/gluonts/transform/feature.py:386: FutureWarning: Timestamp.freq is deprecated and will be removed in a future version\n",
            "  if self._full_range_date_features is not None\n",
            "100%|██████████| 100/100 [00:08<00:00, 11.54it/s, epoch=1/10, avg_epoch_loss=10.1]\n",
            "100%|██████████| 100/100 [00:09<00:00, 10.75it/s, epoch=2/10, avg_epoch_loss=9.39]\n",
            "100%|██████████| 100/100 [00:08<00:00, 11.70it/s, epoch=3/10, avg_epoch_loss=9.23]\n",
            "100%|██████████| 100/100 [00:08<00:00, 12.25it/s, epoch=4/10, avg_epoch_loss=8.96]\n",
            "100%|██████████| 100/100 [00:08<00:00, 12.01it/s, epoch=5/10, avg_epoch_loss=8.69]\n",
            "100%|██████████| 100/100 [00:08<00:00, 12.09it/s, epoch=6/10, avg_epoch_loss=8.55]\n",
            "100%|██████████| 100/100 [00:08<00:00, 12.21it/s, epoch=7/10, avg_epoch_loss=8.45]\n",
            "100%|██████████| 100/100 [00:08<00:00, 12.18it/s, epoch=8/10, avg_epoch_loss=8.41]\n",
            "100%|██████████| 100/100 [00:08<00:00, 12.18it/s, epoch=9/10, avg_epoch_loss=8.38]\n",
            "100%|██████████| 100/100 [00:08<00:00, 12.17it/s, epoch=10/10, avg_epoch_loss=8.35]\n",
            "/usr/local/lib/python3.7/dist-packages/gluonts/transform/feature.py:343: FutureWarning: Timestamp.freq is deprecated and will be removed in a future version\n",
            "  self._freq_base = start.freq.base\n",
            "/usr/local/lib/python3.7/dist-packages/gluonts/transform/split.py:36: FutureWarning: Timestamp.freq is deprecated and will be removed in a future version\n",
            "  return _shift_timestamp_helper(ts, ts.freq, offset)\n",
            "/usr/local/lib/python3.7/dist-packages/gluonts/transform/feature.py:386: FutureWarning: Timestamp.freq is deprecated and will be removed in a future version\n",
            "  if self._full_range_date_features is not None\n"
          ]
        },
        {
          "output_type": "stream",
          "name": "stdout",
          "text": [
            "[0.0001, 2, 30, 0.6217077276812266]\n"
          ]
        },
        {
          "output_type": "stream",
          "name": "stderr",
          "text": [
            "\r  0%|          | 0/100 [00:00<?, ?it/s]/usr/local/lib/python3.7/dist-packages/gluonts/transform/feature.py:340: FutureWarning: Timestamp.freq is deprecated and will be removed in a future version\n",
            "  self._freq_base is None or self._freq_base == start.freq.base\n",
            "/usr/local/lib/python3.7/dist-packages/gluonts/transform/feature.py:340: FutureWarning: Timestamp.freq is deprecated and will be removed in a future version\n",
            "  self._freq_base is None or self._freq_base == start.freq.base\n",
            "/usr/local/lib/python3.7/dist-packages/gluonts/transform/split.py:36: FutureWarning: Timestamp.freq is deprecated and will be removed in a future version\n",
            "  return _shift_timestamp_helper(ts, ts.freq, offset)\n",
            "/usr/local/lib/python3.7/dist-packages/gluonts/transform/feature.py:386: FutureWarning: Timestamp.freq is deprecated and will be removed in a future version\n",
            "  if self._full_range_date_features is not None\n",
            "100%|██████████| 100/100 [00:18<00:00,  5.29it/s, epoch=1/10, avg_epoch_loss=9.73]\n",
            "100%|██████████| 100/100 [00:18<00:00,  5.38it/s, epoch=2/10, avg_epoch_loss=9.1]\n",
            "100%|██████████| 100/100 [00:18<00:00,  5.38it/s, epoch=3/10, avg_epoch_loss=8.69]\n",
            "100%|██████████| 100/100 [00:18<00:00,  5.40it/s, epoch=4/10, avg_epoch_loss=8.51]\n",
            "100%|██████████| 100/100 [00:18<00:00,  5.35it/s, epoch=5/10, avg_epoch_loss=8.42]\n",
            "100%|██████████| 100/100 [00:18<00:00,  5.35it/s, epoch=6/10, avg_epoch_loss=8.38]\n",
            "100%|██████████| 100/100 [00:18<00:00,  5.38it/s, epoch=7/10, avg_epoch_loss=8.34]\n",
            "100%|██████████| 100/100 [00:18<00:00,  5.32it/s, epoch=8/10, avg_epoch_loss=8.33]\n",
            "100%|██████████| 100/100 [00:20<00:00,  4.97it/s, epoch=9/10, avg_epoch_loss=8.3]\n",
            "100%|██████████| 100/100 [00:18<00:00,  5.35it/s, epoch=10/10, avg_epoch_loss=8.27]\n",
            "/usr/local/lib/python3.7/dist-packages/gluonts/transform/feature.py:343: FutureWarning: Timestamp.freq is deprecated and will be removed in a future version\n",
            "  self._freq_base = start.freq.base\n",
            "/usr/local/lib/python3.7/dist-packages/gluonts/transform/split.py:36: FutureWarning: Timestamp.freq is deprecated and will be removed in a future version\n",
            "  return _shift_timestamp_helper(ts, ts.freq, offset)\n",
            "/usr/local/lib/python3.7/dist-packages/gluonts/transform/feature.py:386: FutureWarning: Timestamp.freq is deprecated and will be removed in a future version\n",
            "  if self._full_range_date_features is not None\n"
          ]
        },
        {
          "output_type": "stream",
          "name": "stdout",
          "text": [
            "[0.0001, 2, 100, 0.6659091908244388]\n"
          ]
        },
        {
          "output_type": "stream",
          "name": "stderr",
          "text": [
            "\r  0%|          | 0/100 [00:00<?, ?it/s]/usr/local/lib/python3.7/dist-packages/gluonts/transform/feature.py:340: FutureWarning: Timestamp.freq is deprecated and will be removed in a future version\n",
            "  self._freq_base is None or self._freq_base == start.freq.base\n",
            "/usr/local/lib/python3.7/dist-packages/gluonts/transform/feature.py:340: FutureWarning: Timestamp.freq is deprecated and will be removed in a future version\n",
            "  self._freq_base is None or self._freq_base == start.freq.base\n",
            "/usr/local/lib/python3.7/dist-packages/gluonts/transform/split.py:36: FutureWarning: Timestamp.freq is deprecated and will be removed in a future version\n",
            "  return _shift_timestamp_helper(ts, ts.freq, offset)\n",
            "/usr/local/lib/python3.7/dist-packages/gluonts/transform/feature.py:386: FutureWarning: Timestamp.freq is deprecated and will be removed in a future version\n",
            "  if self._full_range_date_features is not None\n",
            "100%|██████████| 100/100 [00:17<00:00,  5.61it/s, epoch=1/10, avg_epoch_loss=9.62]\n",
            "100%|██████████| 100/100 [00:17<00:00,  5.79it/s, epoch=2/10, avg_epoch_loss=9.26]\n",
            "100%|██████████| 100/100 [00:17<00:00,  5.85it/s, epoch=3/10, avg_epoch_loss=8.92]\n",
            "100%|██████████| 100/100 [00:17<00:00,  5.83it/s, epoch=4/10, avg_epoch_loss=8.67]\n",
            "100%|██████████| 100/100 [00:17<00:00,  5.77it/s, epoch=5/10, avg_epoch_loss=8.56]\n",
            "100%|██████████| 100/100 [00:17<00:00,  5.87it/s, epoch=6/10, avg_epoch_loss=8.49]\n",
            "100%|██████████| 100/100 [00:17<00:00,  5.85it/s, epoch=7/10, avg_epoch_loss=8.44]\n",
            "100%|██████████| 100/100 [00:17<00:00,  5.81it/s, epoch=8/10, avg_epoch_loss=8.41]\n",
            "100%|██████████| 100/100 [00:17<00:00,  5.80it/s, epoch=9/10, avg_epoch_loss=8.38]\n",
            "100%|██████████| 100/100 [00:17<00:00,  5.80it/s, epoch=10/10, avg_epoch_loss=8.34]\n",
            "/usr/local/lib/python3.7/dist-packages/gluonts/transform/feature.py:343: FutureWarning: Timestamp.freq is deprecated and will be removed in a future version\n",
            "  self._freq_base = start.freq.base\n",
            "/usr/local/lib/python3.7/dist-packages/gluonts/transform/split.py:36: FutureWarning: Timestamp.freq is deprecated and will be removed in a future version\n",
            "  return _shift_timestamp_helper(ts, ts.freq, offset)\n",
            "/usr/local/lib/python3.7/dist-packages/gluonts/transform/feature.py:386: FutureWarning: Timestamp.freq is deprecated and will be removed in a future version\n",
            "  if self._full_range_date_features is not None\n"
          ]
        },
        {
          "output_type": "stream",
          "name": "stdout",
          "text": [
            "[0.0001, 5, 30, 0.6383761136251084]\n"
          ]
        },
        {
          "output_type": "stream",
          "name": "stderr",
          "text": [
            "\r  0%|          | 0/100 [00:00<?, ?it/s]/usr/local/lib/python3.7/dist-packages/gluonts/transform/feature.py:340: FutureWarning: Timestamp.freq is deprecated and will be removed in a future version\n",
            "  self._freq_base is None or self._freq_base == start.freq.base\n",
            "/usr/local/lib/python3.7/dist-packages/gluonts/transform/split.py:36: FutureWarning: Timestamp.freq is deprecated and will be removed in a future version\n",
            "  return _shift_timestamp_helper(ts, ts.freq, offset)\n",
            "/usr/local/lib/python3.7/dist-packages/gluonts/transform/feature.py:340: FutureWarning: Timestamp.freq is deprecated and will be removed in a future version\n",
            "  self._freq_base is None or self._freq_base == start.freq.base\n",
            "/usr/local/lib/python3.7/dist-packages/gluonts/transform/feature.py:386: FutureWarning: Timestamp.freq is deprecated and will be removed in a future version\n",
            "  if self._full_range_date_features is not None\n",
            "100%|██████████| 100/100 [00:47<00:00,  2.10it/s, epoch=1/10, avg_epoch_loss=9.43]\n",
            "100%|██████████| 100/100 [00:45<00:00,  2.21it/s, epoch=2/10, avg_epoch_loss=8.84]\n",
            "100%|██████████| 100/100 [00:45<00:00,  2.21it/s, epoch=3/10, avg_epoch_loss=8.59]\n",
            "100%|██████████| 100/100 [00:45<00:00,  2.20it/s, epoch=4/10, avg_epoch_loss=8.49]\n",
            "100%|██████████| 100/100 [00:45<00:00,  2.21it/s, epoch=5/10, avg_epoch_loss=8.44]\n",
            "100%|██████████| 100/100 [00:46<00:00,  2.14it/s, epoch=6/10, avg_epoch_loss=8.38]\n",
            "100%|██████████| 100/100 [00:45<00:00,  2.22it/s, epoch=7/10, avg_epoch_loss=8.36]\n",
            "100%|██████████| 100/100 [00:44<00:00,  2.22it/s, epoch=8/10, avg_epoch_loss=8.35]\n",
            "100%|██████████| 100/100 [00:44<00:00,  2.22it/s, epoch=9/10, avg_epoch_loss=8.31]\n",
            "100%|██████████| 100/100 [00:46<00:00,  2.15it/s, epoch=10/10, avg_epoch_loss=8.29]\n",
            "/usr/local/lib/python3.7/dist-packages/gluonts/transform/feature.py:343: FutureWarning: Timestamp.freq is deprecated and will be removed in a future version\n",
            "  self._freq_base = start.freq.base\n",
            "/usr/local/lib/python3.7/dist-packages/gluonts/transform/split.py:36: FutureWarning: Timestamp.freq is deprecated and will be removed in a future version\n",
            "  return _shift_timestamp_helper(ts, ts.freq, offset)\n",
            "/usr/local/lib/python3.7/dist-packages/gluonts/transform/feature.py:386: FutureWarning: Timestamp.freq is deprecated and will be removed in a future version\n",
            "  if self._full_range_date_features is not None\n"
          ]
        },
        {
          "output_type": "stream",
          "name": "stdout",
          "text": [
            "[0.0001, 5, 100, 0.8390589062250071]\n"
          ]
        },
        {
          "output_type": "stream",
          "name": "stderr",
          "text": [
            "\r  0%|          | 0/100 [00:00<?, ?it/s]/usr/local/lib/python3.7/dist-packages/gluonts/transform/feature.py:340: FutureWarning: Timestamp.freq is deprecated and will be removed in a future version\n",
            "  self._freq_base is None or self._freq_base == start.freq.base\n",
            "/usr/local/lib/python3.7/dist-packages/gluonts/transform/split.py:36: FutureWarning: Timestamp.freq is deprecated and will be removed in a future version\n",
            "  return _shift_timestamp_helper(ts, ts.freq, offset)\n",
            "/usr/local/lib/python3.7/dist-packages/gluonts/transform/feature.py:340: FutureWarning: Timestamp.freq is deprecated and will be removed in a future version\n",
            "  self._freq_base is None or self._freq_base == start.freq.base\n",
            "/usr/local/lib/python3.7/dist-packages/gluonts/transform/feature.py:386: FutureWarning: Timestamp.freq is deprecated and will be removed in a future version\n",
            "  if self._full_range_date_features is not None\n",
            "100%|██████████| 100/100 [00:08<00:00, 11.44it/s, epoch=1/10, avg_epoch_loss=9.01]\n",
            "100%|██████████| 100/100 [00:08<00:00, 11.98it/s, epoch=2/10, avg_epoch_loss=8.34]\n",
            "100%|██████████| 100/100 [00:08<00:00, 11.96it/s, epoch=3/10, avg_epoch_loss=8.18]\n",
            "100%|██████████| 100/100 [00:08<00:00, 11.98it/s, epoch=4/10, avg_epoch_loss=8.07]\n",
            "100%|██████████| 100/100 [00:08<00:00, 12.08it/s, epoch=5/10, avg_epoch_loss=7.96]\n",
            "100%|██████████| 100/100 [00:08<00:00, 12.05it/s, epoch=6/10, avg_epoch_loss=7.89]\n",
            "100%|██████████| 100/100 [00:08<00:00, 11.95it/s, epoch=7/10, avg_epoch_loss=7.82]\n",
            "100%|██████████| 100/100 [00:08<00:00, 11.93it/s, epoch=8/10, avg_epoch_loss=7.77]\n",
            "100%|██████████| 100/100 [00:08<00:00, 11.76it/s, epoch=9/10, avg_epoch_loss=7.69]\n",
            "100%|██████████| 100/100 [00:08<00:00, 11.98it/s, epoch=10/10, avg_epoch_loss=7.64]\n",
            "/usr/local/lib/python3.7/dist-packages/gluonts/transform/feature.py:343: FutureWarning: Timestamp.freq is deprecated and will be removed in a future version\n",
            "  self._freq_base = start.freq.base\n",
            "/usr/local/lib/python3.7/dist-packages/gluonts/transform/split.py:36: FutureWarning: Timestamp.freq is deprecated and will be removed in a future version\n",
            "  return _shift_timestamp_helper(ts, ts.freq, offset)\n",
            "/usr/local/lib/python3.7/dist-packages/gluonts/transform/feature.py:386: FutureWarning: Timestamp.freq is deprecated and will be removed in a future version\n",
            "  if self._full_range_date_features is not None\n"
          ]
        },
        {
          "output_type": "stream",
          "name": "stdout",
          "text": [
            "[0.01, 2, 30, 0.6667034654766048]\n"
          ]
        },
        {
          "output_type": "stream",
          "name": "stderr",
          "text": [
            "\r  0%|          | 0/100 [00:00<?, ?it/s]/usr/local/lib/python3.7/dist-packages/gluonts/transform/feature.py:340: FutureWarning: Timestamp.freq is deprecated and will be removed in a future version\n",
            "  self._freq_base is None or self._freq_base == start.freq.base\n",
            "/usr/local/lib/python3.7/dist-packages/gluonts/transform/feature.py:340: FutureWarning: Timestamp.freq is deprecated and will be removed in a future version\n",
            "  self._freq_base is None or self._freq_base == start.freq.base\n",
            "/usr/local/lib/python3.7/dist-packages/gluonts/transform/split.py:36: FutureWarning: Timestamp.freq is deprecated and will be removed in a future version\n",
            "  return _shift_timestamp_helper(ts, ts.freq, offset)\n",
            "/usr/local/lib/python3.7/dist-packages/gluonts/transform/feature.py:386: FutureWarning: Timestamp.freq is deprecated and will be removed in a future version\n",
            "  if self._full_range_date_features is not None\n",
            "100%|██████████| 100/100 [00:19<00:00,  5.26it/s, epoch=1/10, avg_epoch_loss=9.47]\n",
            "100%|██████████| 100/100 [00:18<00:00,  5.36it/s, epoch=2/10, avg_epoch_loss=8.39]\n",
            "100%|██████████| 100/100 [00:18<00:00,  5.33it/s, epoch=3/10, avg_epoch_loss=8.23]\n",
            "100%|██████████| 100/100 [00:18<00:00,  5.34it/s, epoch=4/10, avg_epoch_loss=8.16]\n",
            "100%|██████████| 100/100 [00:18<00:00,  5.35it/s, epoch=5/10, avg_epoch_loss=8.03]\n",
            "100%|██████████| 100/100 [00:18<00:00,  5.34it/s, epoch=6/10, avg_epoch_loss=7.95]\n",
            "100%|██████████| 100/100 [00:19<00:00,  5.02it/s, epoch=7/10, avg_epoch_loss=7.86]\n",
            "100%|██████████| 100/100 [00:19<00:00,  5.23it/s, epoch=8/10, avg_epoch_loss=7.79]\n",
            "100%|██████████| 100/100 [00:18<00:00,  5.32it/s, epoch=9/10, avg_epoch_loss=7.67]\n",
            "100%|██████████| 100/100 [00:18<00:00,  5.32it/s, epoch=10/10, avg_epoch_loss=7.56]\n",
            "/usr/local/lib/python3.7/dist-packages/gluonts/transform/feature.py:343: FutureWarning: Timestamp.freq is deprecated and will be removed in a future version\n",
            "  self._freq_base = start.freq.base\n",
            "/usr/local/lib/python3.7/dist-packages/gluonts/transform/split.py:36: FutureWarning: Timestamp.freq is deprecated and will be removed in a future version\n",
            "  return _shift_timestamp_helper(ts, ts.freq, offset)\n",
            "/usr/local/lib/python3.7/dist-packages/gluonts/transform/feature.py:386: FutureWarning: Timestamp.freq is deprecated and will be removed in a future version\n",
            "  if self._full_range_date_features is not None\n"
          ]
        },
        {
          "output_type": "stream",
          "name": "stdout",
          "text": [
            "[0.01, 2, 100, 0.7713711229625355]\n"
          ]
        },
        {
          "output_type": "stream",
          "name": "stderr",
          "text": [
            "\r  0%|          | 0/100 [00:00<?, ?it/s]/usr/local/lib/python3.7/dist-packages/gluonts/transform/feature.py:340: FutureWarning: Timestamp.freq is deprecated and will be removed in a future version\n",
            "  self._freq_base is None or self._freq_base == start.freq.base\n",
            "/usr/local/lib/python3.7/dist-packages/gluonts/transform/feature.py:340: FutureWarning: Timestamp.freq is deprecated and will be removed in a future version\n",
            "  self._freq_base is None or self._freq_base == start.freq.base\n",
            "/usr/local/lib/python3.7/dist-packages/gluonts/transform/split.py:36: FutureWarning: Timestamp.freq is deprecated and will be removed in a future version\n",
            "  return _shift_timestamp_helper(ts, ts.freq, offset)\n",
            "/usr/local/lib/python3.7/dist-packages/gluonts/transform/feature.py:386: FutureWarning: Timestamp.freq is deprecated and will be removed in a future version\n",
            "  if self._full_range_date_features is not None\n",
            "100%|██████████| 100/100 [00:17<00:00,  5.61it/s, epoch=1/10, avg_epoch_loss=9.21]\n",
            "100%|██████████| 100/100 [00:17<00:00,  5.76it/s, epoch=2/10, avg_epoch_loss=8.43]\n",
            "100%|██████████| 100/100 [00:17<00:00,  5.81it/s, epoch=3/10, avg_epoch_loss=8.27]\n",
            "100%|██████████| 100/100 [00:17<00:00,  5.78it/s, epoch=4/10, avg_epoch_loss=8.17]\n",
            "100%|██████████| 100/100 [00:17<00:00,  5.80it/s, epoch=5/10, avg_epoch_loss=8.12]\n",
            "100%|██████████| 100/100 [00:17<00:00,  5.78it/s, epoch=6/10, avg_epoch_loss=8.05]\n",
            "100%|██████████| 100/100 [00:17<00:00,  5.81it/s, epoch=7/10, avg_epoch_loss=7.96]\n",
            "100%|██████████| 100/100 [00:17<00:00,  5.77it/s, epoch=8/10, avg_epoch_loss=7.9]\n",
            "100%|██████████| 100/100 [00:17<00:00,  5.77it/s, epoch=9/10, avg_epoch_loss=7.8]\n",
            "100%|██████████| 100/100 [00:18<00:00,  5.29it/s, epoch=10/10, avg_epoch_loss=7.75]\n",
            "/usr/local/lib/python3.7/dist-packages/gluonts/transform/feature.py:343: FutureWarning: Timestamp.freq is deprecated and will be removed in a future version\n",
            "  self._freq_base = start.freq.base\n",
            "/usr/local/lib/python3.7/dist-packages/gluonts/transform/split.py:36: FutureWarning: Timestamp.freq is deprecated and will be removed in a future version\n",
            "  return _shift_timestamp_helper(ts, ts.freq, offset)\n",
            "/usr/local/lib/python3.7/dist-packages/gluonts/transform/feature.py:386: FutureWarning: Timestamp.freq is deprecated and will be removed in a future version\n",
            "  if self._full_range_date_features is not None\n"
          ]
        },
        {
          "output_type": "stream",
          "name": "stdout",
          "text": [
            "[0.01, 5, 30, 0.3129839884728135]\n"
          ]
        },
        {
          "output_type": "stream",
          "name": "stderr",
          "text": [
            "\r  0%|          | 0/100 [00:00<?, ?it/s]/usr/local/lib/python3.7/dist-packages/gluonts/transform/feature.py:340: FutureWarning: Timestamp.freq is deprecated and will be removed in a future version\n",
            "  self._freq_base is None or self._freq_base == start.freq.base\n",
            "/usr/local/lib/python3.7/dist-packages/gluonts/transform/feature.py:340: FutureWarning: Timestamp.freq is deprecated and will be removed in a future version\n",
            "  self._freq_base is None or self._freq_base == start.freq.base\n",
            "/usr/local/lib/python3.7/dist-packages/gluonts/transform/split.py:36: FutureWarning: Timestamp.freq is deprecated and will be removed in a future version\n",
            "  return _shift_timestamp_helper(ts, ts.freq, offset)\n",
            "/usr/local/lib/python3.7/dist-packages/gluonts/transform/feature.py:386: FutureWarning: Timestamp.freq is deprecated and will be removed in a future version\n",
            "  if self._full_range_date_features is not None\n",
            "100%|██████████| 100/100 [00:46<00:00,  2.17it/s, epoch=1/10, avg_epoch_loss=9.54]\n",
            "100%|██████████| 100/100 [00:45<00:00,  2.21it/s, epoch=2/10, avg_epoch_loss=8.57]\n",
            "100%|██████████| 100/100 [00:45<00:00,  2.21it/s, epoch=3/10, avg_epoch_loss=8.35]\n",
            "100%|██████████| 100/100 [00:45<00:00,  2.20it/s, epoch=4/10, avg_epoch_loss=8.3]\n",
            "100%|██████████| 100/100 [00:47<00:00,  2.13it/s, epoch=5/10, avg_epoch_loss=8.22]\n",
            "100%|██████████| 100/100 [00:45<00:00,  2.21it/s, epoch=6/10, avg_epoch_loss=8.12]\n",
            "100%|██████████| 100/100 [00:45<00:00,  2.20it/s, epoch=7/10, avg_epoch_loss=8.12]\n",
            "100%|██████████| 100/100 [00:45<00:00,  2.22it/s, epoch=8/10, avg_epoch_loss=7.99]\n",
            "100%|██████████| 100/100 [00:45<00:00,  2.20it/s, epoch=9/10, avg_epoch_loss=7.94]\n",
            "100%|██████████| 100/100 [00:47<00:00,  2.13it/s, epoch=10/10, avg_epoch_loss=7.88]\n"
          ]
        },
        {
          "output_type": "stream",
          "name": "stdout",
          "text": [
            "[0.01, 5, 100, 0.8731326841489226]\n"
          ]
        }
      ]
    }
  ]
}