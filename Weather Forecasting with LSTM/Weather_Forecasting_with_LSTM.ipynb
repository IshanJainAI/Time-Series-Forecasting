{
  "nbformat": 4,
  "nbformat_minor": 0,
  "metadata": {
    "colab": {
      "name": "Weather Forecasting with LSTM.ipynb",
      "provenance": [],
      "collapsed_sections": [
        "ECO-MqgadLmg",
        "mg2grgRQdaro"
      ]
    },
    "kernelspec": {
      "name": "python3",
      "display_name": "Python 3"
    },
    "language_info": {
      "name": "python"
    }
  },
  "cells": [
    {
      "cell_type": "markdown",
      "source": [
        "# Temperature Forecasting data using last 10 years data"
      ],
      "metadata": {
        "id": "iZ02SLynLZDP"
      }
    },
    {
      "cell_type": "markdown",
      "source": [
        "Data only contains date-time stamp and temperature data in Degree C.\n"
      ],
      "metadata": {
        "id": "05EvEbAuLgJF"
      }
    },
    {
      "cell_type": "code",
      "execution_count": null,
      "metadata": {
        "colab": {
          "base_uri": "https://localhost:8080/"
        },
        "id": "mq9Gp74oBxpB",
        "outputId": "9f9cfa85-501e-49d6-a5ee-ed95c48c6e02"
      },
      "outputs": [
        {
          "output_type": "stream",
          "name": "stdout",
          "text": [
            "Mounted at /gdrive\n"
          ]
        }
      ],
      "source": [
        "from google.colab import drive\n",
        "drive.mount('/gdrive')"
      ]
    },
    {
      "cell_type": "code",
      "source": [
        "cd ../gdrive/My Drive/Colab Notebooks/time_series"
      ],
      "metadata": {
        "colab": {
          "base_uri": "https://localhost:8080/"
        },
        "id": "QQY5GWIBCGTD",
        "outputId": "1882867f-c42d-4f99-afd0-5902c5cb65cb"
      },
      "execution_count": null,
      "outputs": [
        {
          "output_type": "stream",
          "name": "stdout",
          "text": [
            "/gdrive/My Drive/Colab Notebooks/time_series\n"
          ]
        }
      ]
    },
    {
      "cell_type": "code",
      "source": [
        "import pandas as pd\n",
        "import os \n",
        "import numpy as np \n",
        "%matplotlib inline \n",
        "from matplotlib import pyplot as plt \n",
        "import seaborn as sns \n",
        "\n",
        "from statsmodels.tsa import stattools\n",
        "from pandas.plotting import autocorrelation_plot\n",
        "from statsmodels.graphics.tsaplots import plot_acf, plot_pacf\n",
        "\n",
        "\n",
        "import statsmodels.api as sm\n",
        "from sklearn.metrics import r2_score"
      ],
      "metadata": {
        "id": "McG-b1gICMwZ",
        "colab": {
          "base_uri": "https://localhost:8080/"
        },
        "outputId": "d6d4fe59-0c72-45d1-beeb-b6af660fd0f6"
      },
      "execution_count": null,
      "outputs": [
        {
          "output_type": "stream",
          "name": "stderr",
          "text": [
            "/usr/local/lib/python3.7/dist-packages/statsmodels/tools/_testing.py:19: FutureWarning: pandas.util.testing is deprecated. Use the functions in the public API at pandas.testing instead.\n",
            "  import pandas.util.testing as tm\n"
          ]
        }
      ]
    },
    {
      "cell_type": "code",
      "source": [
        "df = pd.read_csv('USA_SolarPlant_Temp_2009_2016.csv') # every 10 minutes.\n",
        "df.head(2)"
      ],
      "metadata": {
        "id": "-UbeThS1CGbp"
      },
      "execution_count": null,
      "outputs": []
    },
    {
      "cell_type": "code",
      "source": [
        "df_copy = df.copy()\n",
        "\n",
        "# retain only temperature\n",
        "df = df[['T (degC)']]\n"
      ],
      "metadata": {
        "id": "BwmgsqV8ycXf"
      },
      "execution_count": null,
      "outputs": []
    },
    {
      "cell_type": "code",
      "source": [
        "df.head(2)"
      ],
      "metadata": {
        "colab": {
          "base_uri": "https://localhost:8080/",
          "height": 112
        },
        "id": "WONGahvMySVQ",
        "outputId": "ba770268-b518-4b10-c371-5427a61e28cf"
      },
      "execution_count": null,
      "outputs": [
        {
          "output_type": "execute_result",
          "data": {
            "text/plain": [
              "   T (degC)\n",
              "0     -8.02\n",
              "1     -8.41"
            ],
            "text/html": [
              "\n",
              "  <div id=\"df-31acc099-2d6e-4909-a5d2-f2173ad928b3\">\n",
              "    <div class=\"colab-df-container\">\n",
              "      <div>\n",
              "<style scoped>\n",
              "    .dataframe tbody tr th:only-of-type {\n",
              "        vertical-align: middle;\n",
              "    }\n",
              "\n",
              "    .dataframe tbody tr th {\n",
              "        vertical-align: top;\n",
              "    }\n",
              "\n",
              "    .dataframe thead th {\n",
              "        text-align: right;\n",
              "    }\n",
              "</style>\n",
              "<table border=\"1\" class=\"dataframe\">\n",
              "  <thead>\n",
              "    <tr style=\"text-align: right;\">\n",
              "      <th></th>\n",
              "      <th>T (degC)</th>\n",
              "    </tr>\n",
              "  </thead>\n",
              "  <tbody>\n",
              "    <tr>\n",
              "      <th>0</th>\n",
              "      <td>-8.02</td>\n",
              "    </tr>\n",
              "    <tr>\n",
              "      <th>1</th>\n",
              "      <td>-8.41</td>\n",
              "    </tr>\n",
              "  </tbody>\n",
              "</table>\n",
              "</div>\n",
              "      <button class=\"colab-df-convert\" onclick=\"convertToInteractive('df-31acc099-2d6e-4909-a5d2-f2173ad928b3')\"\n",
              "              title=\"Convert this dataframe to an interactive table.\"\n",
              "              style=\"display:none;\">\n",
              "        \n",
              "  <svg xmlns=\"http://www.w3.org/2000/svg\" height=\"24px\"viewBox=\"0 0 24 24\"\n",
              "       width=\"24px\">\n",
              "    <path d=\"M0 0h24v24H0V0z\" fill=\"none\"/>\n",
              "    <path d=\"M18.56 5.44l.94 2.06.94-2.06 2.06-.94-2.06-.94-.94-2.06-.94 2.06-2.06.94zm-11 1L8.5 8.5l.94-2.06 2.06-.94-2.06-.94L8.5 2.5l-.94 2.06-2.06.94zm10 10l.94 2.06.94-2.06 2.06-.94-2.06-.94-.94-2.06-.94 2.06-2.06.94z\"/><path d=\"M17.41 7.96l-1.37-1.37c-.4-.4-.92-.59-1.43-.59-.52 0-1.04.2-1.43.59L10.3 9.45l-7.72 7.72c-.78.78-.78 2.05 0 2.83L4 21.41c.39.39.9.59 1.41.59.51 0 1.02-.2 1.41-.59l7.78-7.78 2.81-2.81c.8-.78.8-2.07 0-2.86zM5.41 20L4 18.59l7.72-7.72 1.47 1.35L5.41 20z\"/>\n",
              "  </svg>\n",
              "      </button>\n",
              "      \n",
              "  <style>\n",
              "    .colab-df-container {\n",
              "      display:flex;\n",
              "      flex-wrap:wrap;\n",
              "      gap: 12px;\n",
              "    }\n",
              "\n",
              "    .colab-df-convert {\n",
              "      background-color: #E8F0FE;\n",
              "      border: none;\n",
              "      border-radius: 50%;\n",
              "      cursor: pointer;\n",
              "      display: none;\n",
              "      fill: #1967D2;\n",
              "      height: 32px;\n",
              "      padding: 0 0 0 0;\n",
              "      width: 32px;\n",
              "    }\n",
              "\n",
              "    .colab-df-convert:hover {\n",
              "      background-color: #E2EBFA;\n",
              "      box-shadow: 0px 1px 2px rgba(60, 64, 67, 0.3), 0px 1px 3px 1px rgba(60, 64, 67, 0.15);\n",
              "      fill: #174EA6;\n",
              "    }\n",
              "\n",
              "    [theme=dark] .colab-df-convert {\n",
              "      background-color: #3B4455;\n",
              "      fill: #D2E3FC;\n",
              "    }\n",
              "\n",
              "    [theme=dark] .colab-df-convert:hover {\n",
              "      background-color: #434B5C;\n",
              "      box-shadow: 0px 1px 3px 1px rgba(0, 0, 0, 0.15);\n",
              "      filter: drop-shadow(0px 1px 2px rgba(0, 0, 0, 0.3));\n",
              "      fill: #FFFFFF;\n",
              "    }\n",
              "  </style>\n",
              "\n",
              "      <script>\n",
              "        const buttonEl =\n",
              "          document.querySelector('#df-31acc099-2d6e-4909-a5d2-f2173ad928b3 button.colab-df-convert');\n",
              "        buttonEl.style.display =\n",
              "          google.colab.kernel.accessAllowed ? 'block' : 'none';\n",
              "\n",
              "        async function convertToInteractive(key) {\n",
              "          const element = document.querySelector('#df-31acc099-2d6e-4909-a5d2-f2173ad928b3');\n",
              "          const dataTable =\n",
              "            await google.colab.kernel.invokeFunction('convertToInteractive',\n",
              "                                                     [key], {});\n",
              "          if (!dataTable) return;\n",
              "\n",
              "          const docLinkHtml = 'Like what you see? Visit the ' +\n",
              "            '<a target=\"_blank\" href=https://colab.research.google.com/notebooks/data_table.ipynb>data table notebook</a>'\n",
              "            + ' to learn more about interactive tables.';\n",
              "          element.innerHTML = '';\n",
              "          dataTable['output_type'] = 'display_data';\n",
              "          await google.colab.output.renderOutput(dataTable, element);\n",
              "          const docLink = document.createElement('div');\n",
              "          docLink.innerHTML = docLinkHtml;\n",
              "          element.appendChild(docLink);\n",
              "        }\n",
              "      </script>\n",
              "    </div>\n",
              "  </div>\n",
              "  "
            ]
          },
          "metadata": {},
          "execution_count": 6
        }
      ]
    },
    {
      "cell_type": "code",
      "source": [
        "df.describe().T.round()"
      ],
      "metadata": {
        "colab": {
          "base_uri": "https://localhost:8080/",
          "height": 81
        },
        "id": "s3PL_T0pyTvF",
        "outputId": "053736f4-e6ea-4c24-f348-956dcc67e1f5"
      },
      "execution_count": null,
      "outputs": [
        {
          "output_type": "execute_result",
          "data": {
            "text/plain": [
              "             count  mean  std   min  25%  50%   75%   max\n",
              "T (degC)  420551.0   9.0  8.0 -23.0  3.0  9.0  15.0  37.0"
            ],
            "text/html": [
              "\n",
              "  <div id=\"df-5a33eea2-b925-41b2-a0b6-9396de25d638\">\n",
              "    <div class=\"colab-df-container\">\n",
              "      <div>\n",
              "<style scoped>\n",
              "    .dataframe tbody tr th:only-of-type {\n",
              "        vertical-align: middle;\n",
              "    }\n",
              "\n",
              "    .dataframe tbody tr th {\n",
              "        vertical-align: top;\n",
              "    }\n",
              "\n",
              "    .dataframe thead th {\n",
              "        text-align: right;\n",
              "    }\n",
              "</style>\n",
              "<table border=\"1\" class=\"dataframe\">\n",
              "  <thead>\n",
              "    <tr style=\"text-align: right;\">\n",
              "      <th></th>\n",
              "      <th>count</th>\n",
              "      <th>mean</th>\n",
              "      <th>std</th>\n",
              "      <th>min</th>\n",
              "      <th>25%</th>\n",
              "      <th>50%</th>\n",
              "      <th>75%</th>\n",
              "      <th>max</th>\n",
              "    </tr>\n",
              "  </thead>\n",
              "  <tbody>\n",
              "    <tr>\n",
              "      <th>T (degC)</th>\n",
              "      <td>420551.0</td>\n",
              "      <td>9.0</td>\n",
              "      <td>8.0</td>\n",
              "      <td>-23.0</td>\n",
              "      <td>3.0</td>\n",
              "      <td>9.0</td>\n",
              "      <td>15.0</td>\n",
              "      <td>37.0</td>\n",
              "    </tr>\n",
              "  </tbody>\n",
              "</table>\n",
              "</div>\n",
              "      <button class=\"colab-df-convert\" onclick=\"convertToInteractive('df-5a33eea2-b925-41b2-a0b6-9396de25d638')\"\n",
              "              title=\"Convert this dataframe to an interactive table.\"\n",
              "              style=\"display:none;\">\n",
              "        \n",
              "  <svg xmlns=\"http://www.w3.org/2000/svg\" height=\"24px\"viewBox=\"0 0 24 24\"\n",
              "       width=\"24px\">\n",
              "    <path d=\"M0 0h24v24H0V0z\" fill=\"none\"/>\n",
              "    <path d=\"M18.56 5.44l.94 2.06.94-2.06 2.06-.94-2.06-.94-.94-2.06-.94 2.06-2.06.94zm-11 1L8.5 8.5l.94-2.06 2.06-.94-2.06-.94L8.5 2.5l-.94 2.06-2.06.94zm10 10l.94 2.06.94-2.06 2.06-.94-2.06-.94-.94-2.06-.94 2.06-2.06.94z\"/><path d=\"M17.41 7.96l-1.37-1.37c-.4-.4-.92-.59-1.43-.59-.52 0-1.04.2-1.43.59L10.3 9.45l-7.72 7.72c-.78.78-.78 2.05 0 2.83L4 21.41c.39.39.9.59 1.41.59.51 0 1.02-.2 1.41-.59l7.78-7.78 2.81-2.81c.8-.78.8-2.07 0-2.86zM5.41 20L4 18.59l7.72-7.72 1.47 1.35L5.41 20z\"/>\n",
              "  </svg>\n",
              "      </button>\n",
              "      \n",
              "  <style>\n",
              "    .colab-df-container {\n",
              "      display:flex;\n",
              "      flex-wrap:wrap;\n",
              "      gap: 12px;\n",
              "    }\n",
              "\n",
              "    .colab-df-convert {\n",
              "      background-color: #E8F0FE;\n",
              "      border: none;\n",
              "      border-radius: 50%;\n",
              "      cursor: pointer;\n",
              "      display: none;\n",
              "      fill: #1967D2;\n",
              "      height: 32px;\n",
              "      padding: 0 0 0 0;\n",
              "      width: 32px;\n",
              "    }\n",
              "\n",
              "    .colab-df-convert:hover {\n",
              "      background-color: #E2EBFA;\n",
              "      box-shadow: 0px 1px 2px rgba(60, 64, 67, 0.3), 0px 1px 3px 1px rgba(60, 64, 67, 0.15);\n",
              "      fill: #174EA6;\n",
              "    }\n",
              "\n",
              "    [theme=dark] .colab-df-convert {\n",
              "      background-color: #3B4455;\n",
              "      fill: #D2E3FC;\n",
              "    }\n",
              "\n",
              "    [theme=dark] .colab-df-convert:hover {\n",
              "      background-color: #434B5C;\n",
              "      box-shadow: 0px 1px 3px 1px rgba(0, 0, 0, 0.15);\n",
              "      filter: drop-shadow(0px 1px 2px rgba(0, 0, 0, 0.3));\n",
              "      fill: #FFFFFF;\n",
              "    }\n",
              "  </style>\n",
              "\n",
              "      <script>\n",
              "        const buttonEl =\n",
              "          document.querySelector('#df-5a33eea2-b925-41b2-a0b6-9396de25d638 button.colab-df-convert');\n",
              "        buttonEl.style.display =\n",
              "          google.colab.kernel.accessAllowed ? 'block' : 'none';\n",
              "\n",
              "        async function convertToInteractive(key) {\n",
              "          const element = document.querySelector('#df-5a33eea2-b925-41b2-a0b6-9396de25d638');\n",
              "          const dataTable =\n",
              "            await google.colab.kernel.invokeFunction('convertToInteractive',\n",
              "                                                     [key], {});\n",
              "          if (!dataTable) return;\n",
              "\n",
              "          const docLinkHtml = 'Like what you see? Visit the ' +\n",
              "            '<a target=\"_blank\" href=https://colab.research.google.com/notebooks/data_table.ipynb>data table notebook</a>'\n",
              "            + ' to learn more about interactive tables.';\n",
              "          element.innerHTML = '';\n",
              "          dataTable['output_type'] = 'display_data';\n",
              "          await google.colab.output.renderOutput(dataTable, element);\n",
              "          const docLink = document.createElement('div');\n",
              "          docLink.innerHTML = docLinkHtml;\n",
              "          element.appendChild(docLink);\n",
              "        }\n",
              "      </script>\n",
              "    </div>\n",
              "  </div>\n",
              "  "
            ]
          },
          "metadata": {},
          "execution_count": 7
        }
      ]
    },
    {
      "cell_type": "code",
      "source": [
        "# apply a min max scaler\n",
        "from sklearn.preprocessing import MinMaxScaler\n",
        "scaler = MinMaxScaler()\n",
        "df = pd.DataFrame(scaler.fit_transform(df), columns = ['T'])"
      ],
      "metadata": {
        "id": "9yVCt8DXdCWM"
      },
      "execution_count": null,
      "outputs": []
    },
    {
      "cell_type": "code",
      "source": [
        "# convert to windowed data sets\n",
        "ylist = list(df['T'])\n",
        "\n",
        "n_future = 72\n",
        "n_past = 3*72\n",
        "total_period = 4*72\n",
        "\n",
        "idx_end = len(ylist)\n",
        "idx_start = idx_end - total_period\n",
        "\n",
        "X_new = []\n",
        "y_new = []\n",
        "while idx_start > 0:\n",
        "  x_line = ylist[idx_start:idx_start+n_past]\n",
        "  y_line = ylist[idx_start+n_past:idx_start+total_period]\n",
        "\n",
        "  X_new.append(x_line)\n",
        "  y_new.append(y_line)\n",
        "\n",
        "  idx_start = idx_start - 1\n",
        "\n",
        "import numpy as np\n",
        "X_new = np.array(X_new)\n",
        "y_new = np.array(y_new)"
      ],
      "metadata": {
        "id": "jCkKgX48dDMm"
      },
      "execution_count": null,
      "outputs": []
    },
    {
      "cell_type": "code",
      "source": [
        "# train test split\n",
        "from sklearn.model_selection import train_test_split\n",
        "X_train, X_test, y_train, y_test = train_test_split(X_new, y_new, test_size=0.33, random_state=42)"
      ],
      "metadata": {
        "id": "wwiPyf9LdDUk"
      },
      "execution_count": null,
      "outputs": []
    },
    {
      "cell_type": "code",
      "source": [
        "# reshape data into the right format for RNNs\n",
        "n_samples = X_train.shape[0]\n",
        "n_timesteps = X_train.shape[1]\n",
        "n_steps = y_train.shape[1]\n",
        "n_features = 1\n",
        "\n",
        "X_train_rs = X_train.reshape(n_samples, n_timesteps, n_features )\n",
        "X_test_rs = X_test.reshape(X_test.shape[0], n_timesteps, n_features )"
      ],
      "metadata": {
        "id": "42htp7K8ycaJ"
      },
      "execution_count": null,
      "outputs": []
    },
    {
      "cell_type": "code",
      "source": [
        ""
      ],
      "metadata": {
        "id": "EI5nkHJ6ckDp"
      },
      "execution_count": null,
      "outputs": []
    },
    {
      "cell_type": "markdown",
      "source": [
        "### One step LSTM "
      ],
      "metadata": {
        "id": "ECO-MqgadLmg"
      }
    },
    {
      "cell_type": "code",
      "source": [
        "import random\n",
        "from tensorflow.keras.models import Sequential\n",
        "from tensorflow.keras.layers import Dense, LSTM\n",
        "import keras\n",
        "import tensorflow as tf\n",
        "\n",
        "random.seed(42)\n",
        "\n",
        "batch_size = 32\n",
        "simple_model = Sequential([\n",
        "   LSTM(8, activation='tanh',input_shape=(n_timesteps, n_features)),\n",
        "  Dense(y_train.shape[1]),\n",
        "])\n",
        "\n",
        "simple_model.summary()\n",
        "\n",
        "simple_model.compile(\n",
        "  optimizer=tf.keras.optimizers.Adam(learning_rate=0.01),\n",
        "  loss='mean_absolute_error',\n",
        "  metrics=['mean_absolute_error'],\n",
        ")\n",
        "\n",
        "smod_history = simple_model.fit(X_train_rs, y_train,\n",
        "          validation_split=0.2,\n",
        "          epochs=2,\n",
        "          batch_size=batch_size,\n",
        "          shuffle = True\n",
        ")\n",
        "\n",
        "preds = simple_model.predict(X_test_rs)\n",
        "\n",
        "print(r2_score(preds, y_test))\n",
        "\n",
        "plt.plot(smod_history.history['loss'])\n",
        "plt.plot(smod_history.history['val_loss'])\n",
        "plt.title('model loss')\n",
        "plt.xlabel('epoch')\n",
        "plt.legend(['train', 'val'], loc='upper left')\n",
        "plt.show()"
      ],
      "metadata": {
        "colab": {
          "base_uri": "https://localhost:8080/",
          "height": 627
        },
        "id": "WpcGG5LxdNrg",
        "outputId": "a853f381-8a95-493f-f81a-8e4a4e7e0e41"
      },
      "execution_count": null,
      "outputs": [
        {
          "output_type": "stream",
          "name": "stdout",
          "text": [
            "Model: \"sequential\"\n",
            "_________________________________________________________________\n",
            " Layer (type)                Output Shape              Param #   \n",
            "=================================================================\n",
            " lstm (LSTM)                 (None, 8)                 320       \n",
            "                                                                 \n",
            " dense (Dense)               (None, 72)                648       \n",
            "                                                                 \n",
            "=================================================================\n",
            "Total params: 968\n",
            "Trainable params: 968\n",
            "Non-trainable params: 0\n",
            "_________________________________________________________________\n",
            "Epoch 1/2\n",
            "7040/7040 [==============================] - 460s 65ms/step - loss: 0.0352 - mean_absolute_error: 0.0352 - val_loss: 0.0298 - val_mean_absolute_error: 0.0298\n",
            "Epoch 2/2\n",
            "7040/7040 [==============================] - 472s 67ms/step - loss: 0.0280 - mean_absolute_error: 0.0280 - val_loss: 0.0275 - val_mean_absolute_error: 0.0275\n",
            "0.9134286648774849\n"
          ]
        },
        {
          "output_type": "display_data",
          "data": {
            "text/plain": [
              "<Figure size 432x288 with 1 Axes>"
            ],
            "image/png": "[encoded data removed]"
          },
          "metadata": {
            "needs_background": "light"
          }
        }
      ]
    },
    {
      "cell_type": "code",
      "source": [
        ""
      ],
      "metadata": {
        "id": "sHchvuKlckGn"
      },
      "execution_count": null,
      "outputs": []
    },
    {
      "cell_type": "markdown",
      "source": [
        "### LSTM with 3 layers"
      ],
      "metadata": {
        "id": "mg2grgRQdaro"
      }
    },
    {
      "cell_type": "code",
      "source": [
        "random.seed(42)\n",
        "\n",
        "simple_model = Sequential([\n",
        "   LSTM(64, activation='tanh',input_shape=(n_timesteps, n_features), return_sequences=True),\n",
        "    LSTM(64, activation='tanh', return_sequences=True),\n",
        "    LSTM(64, activation='tanh'),\n",
        "  Dense(y_train.shape[1]),\n",
        "])\n",
        "\n",
        "simple_model.summary()\n",
        "\n",
        "simple_model.compile(\n",
        "  optimizer=tf.keras.optimizers.Adam(learning_rate=0.001),\n",
        "  loss='mean_absolute_error',\n",
        "  metrics=['mean_absolute_error'],\n",
        ")\n",
        "\n",
        "smod_history = simple_model.fit(X_train_rs, y_train,\n",
        "          validation_split=0.2,\n",
        "          epochs=2,\n",
        "          batch_size=batch_size,\n",
        "          shuffle = True\n",
        ")\n",
        "\n",
        "preds = simple_model.predict(X_test_rs)\n",
        "\n",
        "print(r2_score(preds, y_test))\n",
        "\n",
        "plt.plot(smod_history.history['loss'])\n",
        "plt.plot(smod_history.history['val_loss'])\n",
        "plt.title('model loss')\n",
        "plt.ylabel('accuracy')\n",
        "plt.xlabel('epoch')\n",
        "plt.legend(['train', 'val'], loc='upper left')\n",
        "plt.show()"
      ],
      "metadata": {
        "colab": {
          "base_uri": "https://localhost:8080/",
          "height": 697
        },
        "id": "q0XiKY_nckJa",
        "outputId": "621efe21-626f-4460-eb26-a45045adfbb0"
      },
      "execution_count": null,
      "outputs": [
        {
          "output_type": "stream",
          "name": "stdout",
          "text": [
            "Model: \"sequential_1\"\n",
            "_________________________________________________________________\n",
            " Layer (type)                Output Shape              Param #   \n",
            "=================================================================\n",
            " lstm_1 (LSTM)               (None, 216, 64)           16896     \n",
            "                                                                 \n",
            " lstm_2 (LSTM)               (None, 216, 64)           33024     \n",
            "                                                                 \n",
            " lstm_3 (LSTM)               (None, 64)                33024     \n",
            "                                                                 \n",
            " dense_1 (Dense)             (None, 72)                4680      \n",
            "                                                                 \n",
            "=================================================================\n",
            "Total params: 87,624\n",
            "Trainable params: 87,624\n",
            "Non-trainable params: 0\n",
            "_________________________________________________________________\n",
            "Epoch 1/2\n",
            "7040/7040 [==============================] - 2476s 351ms/step - loss: 0.0329 - mean_absolute_error: 0.0329 - val_loss: 0.0286 - val_mean_absolute_error: 0.0286\n",
            "Epoch 2/2\n",
            "7040/7040 [==============================] - 2517s 358ms/step - loss: 0.0273 - mean_absolute_error: 0.0273 - val_loss: 0.0261 - val_mean_absolute_error: 0.0261\n",
            "0.9296437861279219\n"
          ]
        },
        {
          "output_type": "display_data",
          "data": {
            "text/plain": [
              "<Figure size 432x288 with 1 Axes>"
            ],
            "image/png": "[encoded data removed]"
          },
          "metadata": {
            "needs_background": "light"
          }
        }
      ]
    },
    {
      "cell_type": "code",
      "source": [
        ""
      ],
      "metadata": {
        "id": "KRImKT85ckL-"
      },
      "execution_count": null,
      "outputs": []
    },
    {
      "cell_type": "code",
      "source": [
        ""
      ],
      "metadata": {
        "id": "_a_dMYLnckOz"
      },
      "execution_count": null,
      "outputs": []
    }
  ]
}